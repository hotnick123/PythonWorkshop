{
 "cells": [
  {
   "cell_type": "code",
   "execution_count": 4,
   "id": "ca22e9a5",
   "metadata": {},
   "outputs": [
    {
     "name": "stdout",
     "output_type": "stream",
     "text": [
      "Requirement already satisfied: python-pptx in c:\\users\\user2\\anaconda3\\lib\\site-packages (0.6.21)\n",
      "Requirement already satisfied: XlsxWriter>=0.5.7 in c:\\users\\user2\\anaconda3\\lib\\site-packages (from python-pptx) (1.3.8)\n",
      "Requirement already satisfied: lxml>=3.1.0 in c:\\users\\user2\\anaconda3\\lib\\site-packages (from python-pptx) (4.6.3)\n",
      "Requirement already satisfied: Pillow>=3.3.2 in c:\\users\\user2\\anaconda3\\lib\\site-packages (from python-pptx) (8.2.0)\n"
     ]
    }
   ],
   "source": [
    "!pip install python-pptx"
   ]
  },
  {
   "cell_type": "code",
   "execution_count": 2,
   "id": "edfe3f07",
   "metadata": {},
   "outputs": [],
   "source": [
    "from pptx import Presentation\n",
    "from pptx.util import Inches"
   ]
  },
  {
   "cell_type": "code",
   "execution_count": 3,
   "id": "e7bfefe7",
   "metadata": {},
   "outputs": [],
   "source": [
    "# PPT 객체 생성\n",
    "prs = Presentation()"
   ]
  },
  {
   "cell_type": "code",
   "execution_count": 5,
   "id": "c524a9ed",
   "metadata": {},
   "outputs": [
    {
     "name": "stdout",
     "output_type": "stream",
     "text": [
      " C 드라이브의 볼륨: 오후반_OS\n",
      " 볼륨 일련 번호: E808-E5FC\n",
      "\n",
      " C:\\Users\\user2\\python_works\\PythonWorkshop-1 디렉터리\n",
      "\n",
      "2021-10-06  오후 03:58    <DIR>          .\n",
      "2021-10-06  오후 03:58    <DIR>          ..\n",
      "2021-09-17  오후 05:46             1,928 .gitignore\n",
      "2021-10-06  오후 03:44    <DIR>          .ipynb_checkpoints\n",
      "2021-09-23  오후 05:43            14,823 Array.ipynb\n",
      "2021-09-28  오후 07:33            50,831 Class.ipynb\n",
      "2021-09-24  오후 07:01                37 colors\n",
      "2021-09-23  오후 08:06             8,476 ControlStatement.ipynb\n",
      "2021-09-23  오후 04:18             4,087 DataType.ipynb\n",
      "2021-09-27  오후 09:16             1,621 exception_test.ipynb\n",
      "2021-09-24  오후 07:19            29,669 FileIO.ipynb\n",
      "2021-09-24  오후 05:53            15,511 Function(Method).ipynb\n",
      "2021-10-01  오후 08:43             9,880 kakao_friends_msg_api.ipynb\n",
      "2021-10-01  오후 06:00            15,980 kakao_msg_api.ipynb\n",
      "2021-09-28  오후 07:53             2,382 operator_overload.ipynb\n",
      "2021-10-05  오후 09:49           402,051 order_test.ipynb\n",
      "2021-10-05  오후 05:11             5,468 python_response.ipynb\n",
      "2021-09-17  오후 07:52            19,755 python_taste.ipynb\n",
      "2021-09-17  오후 05:46                51 README.md\n",
      "2021-09-17  오후 07:05            27,952 request_success.jpg\n",
      "2021-10-01  오후 06:01    <DIR>          res\n",
      "2021-09-24  오후 07:14                47 test\n",
      "2021-09-24  오후 06:10                83 test.txt\n",
      "2021-10-06  오후 03:58             2,042 Untitled.ipynb\n",
      "              20개 파일             612,674 바이트\n",
      "               4개 디렉터리  147,463,294,976 바이트 남음\n"
     ]
    }
   ],
   "source": [
    "!dir"
   ]
  },
  {
   "cell_type": "code",
   "execution_count": 6,
   "id": "b7d1d73c",
   "metadata": {},
   "outputs": [],
   "source": [
    "# Python 지원하는 레이아웃이 총 11개로 알고 있음\n",
    "for i in range(0, 11):\n",
    "    title_slide_layout = prs.slide_layouts[i]\n",
    "    slide = prs.slides.add_slide(title_slide_layout)\n",
    "    \n",
    "prs.save('모든슬라이드추가.pptx')"
   ]
  },
  {
   "cell_type": "code",
   "execution_count": 7,
   "id": "19f6c442",
   "metadata": {},
   "outputs": [
    {
     "name": "stdout",
     "output_type": "stream",
     "text": [
      " C 드라이브의 볼륨: 오후반_OS\n",
      " 볼륨 일련 번호: E808-E5FC\n",
      "\n",
      " C:\\Users\\user2\\python_works\\PythonWorkshop-1 디렉터리\n",
      "\n",
      "2021-10-06  오후 03:59    <DIR>          .\n",
      "2021-10-06  오후 03:59    <DIR>          ..\n",
      "2021-09-17  오후 05:46             1,928 .gitignore\n",
      "2021-10-06  오후 03:59    <DIR>          .ipynb_checkpoints\n",
      "2021-09-23  오후 05:43            14,823 Array.ipynb\n",
      "2021-09-28  오후 07:33            50,831 Class.ipynb\n",
      "2021-09-24  오후 07:01                37 colors\n",
      "2021-09-23  오후 08:06             8,476 ControlStatement.ipynb\n",
      "2021-09-23  오후 04:18             4,087 DataType.ipynb\n",
      "2021-09-27  오후 09:16             1,621 exception_test.ipynb\n",
      "2021-09-24  오후 07:19            29,669 FileIO.ipynb\n",
      "2021-09-24  오후 05:53            15,511 Function(Method).ipynb\n",
      "2021-10-01  오후 08:43             9,880 kakao_friends_msg_api.ipynb\n",
      "2021-10-01  오후 06:00            15,980 kakao_msg_api.ipynb\n",
      "2021-09-28  오후 07:53             2,382 operator_overload.ipynb\n",
      "2021-10-05  오후 09:49           402,051 order_test.ipynb\n",
      "2021-10-06  오후 03:58             2,042 pptx_control.ipynb\n",
      "2021-10-05  오후 05:11             5,468 python_response.ipynb\n",
      "2021-09-17  오후 07:52            19,755 python_taste.ipynb\n",
      "2021-09-17  오후 05:46                51 README.md\n",
      "2021-09-17  오후 07:05            27,952 request_success.jpg\n",
      "2021-10-01  오후 06:01    <DIR>          res\n",
      "2021-09-24  오후 07:14                47 test\n",
      "2021-09-24  오후 06:10                83 test.txt\n",
      "2021-10-06  오후 03:59            36,383 모든슬라이드추가.pptx\n",
      "              21개 파일             649,057 바이트\n",
      "               4개 디렉터리  147,463,237,632 바이트 남음\n"
     ]
    }
   ],
   "source": [
    "!dir"
   ]
  },
  {
   "cell_type": "code",
   "execution_count": 9,
   "id": "4c37fd1f",
   "metadata": {},
   "outputs": [],
   "source": [
    "del prs"
   ]
  },
  {
   "cell_type": "code",
   "execution_count": 11,
   "id": "616227ab",
   "metadata": {},
   "outputs": [],
   "source": [
    "prs = Presentation()\n",
    "\n",
    "title_slide_layout = prs.slide_layouts[0]\n",
    "slide = prs.slides.add_slide(title_slide_layout)\n",
    "\n",
    "# 제목\n",
    "title = slide.placeholders[0]\n",
    "title.text = \"Hello, Python Based PPTX!\"\n",
    "\n",
    "# 부제목\n",
    "# 즉 제목은 placeholders[0], 부제목은 [1]\n",
    "subtitle = slide.placeholders[1]\n",
    "subtitle.text = \"python-pptx를 사용해서 PPT 만들기\"\n",
    "\n",
    "prs.save('test.pptx')"
   ]
  },
  {
   "cell_type": "code",
   "execution_count": 12,
   "id": "4682eb2f",
   "metadata": {},
   "outputs": [
    {
     "name": "stdout",
     "output_type": "stream",
     "text": [
      " C 드라이브의 볼륨: 오후반_OS\n",
      " 볼륨 일련 번호: E808-E5FC\n",
      "\n",
      " C:\\Users\\user2\\python_works\\PythonWorkshop-1 디렉터리\n",
      "\n",
      "2021-10-06  오후 04:05    <DIR>          .\n",
      "2021-10-06  오후 04:05    <DIR>          ..\n",
      "2021-09-17  오후 05:46             1,928 .gitignore\n",
      "2021-10-06  오후 03:59    <DIR>          .ipynb_checkpoints\n",
      "2021-09-23  오후 05:43            14,823 Array.ipynb\n",
      "2021-09-28  오후 07:33            50,831 Class.ipynb\n",
      "2021-09-24  오후 07:01                37 colors\n",
      "2021-09-23  오후 08:06             8,476 ControlStatement.ipynb\n",
      "2021-09-23  오후 04:18             4,087 DataType.ipynb\n",
      "2021-09-27  오후 09:16             1,621 exception_test.ipynb\n",
      "2021-09-24  오후 07:19            29,669 FileIO.ipynb\n",
      "2021-09-24  오후 05:53            15,511 Function(Method).ipynb\n",
      "2021-10-01  오후 08:43             9,880 kakao_friends_msg_api.ipynb\n",
      "2021-10-01  오후 06:00            15,980 kakao_msg_api.ipynb\n",
      "2021-09-28  오후 07:53             2,382 operator_overload.ipynb\n",
      "2021-10-05  오후 09:49           402,051 order_test.ipynb\n",
      "2021-10-06  오후 04:05             8,222 pptx_control.ipynb\n",
      "2021-10-05  오후 05:11             5,468 python_response.ipynb\n",
      "2021-09-17  오후 07:52            19,755 python_taste.ipynb\n",
      "2021-09-17  오후 05:46                51 README.md\n",
      "2021-09-17  오후 07:05            27,952 request_success.jpg\n",
      "2021-10-01  오후 06:01    <DIR>          res\n",
      "2021-09-24  오후 07:14                47 test\n",
      "2021-10-06  오후 04:05            28,310 test.pptx\n",
      "2021-09-24  오후 06:10                83 test.txt\n",
      "2021-10-06  오후 03:59            36,383 모든슬라이드추가.pptx\n",
      "              22개 파일             683,547 바이트\n",
      "               4개 디렉터리  147,461,599,232 바이트 남음\n"
     ]
    }
   ],
   "source": [
    "!dir"
   ]
  },
  {
   "cell_type": "code",
   "execution_count": 13,
   "id": "22f3f546",
   "metadata": {},
   "outputs": [],
   "source": [
    "del prs"
   ]
  },
  {
   "cell_type": "code",
   "execution_count": 14,
   "id": "8cb81dc2",
   "metadata": {},
   "outputs": [],
   "source": [
    "prs = Presentation()\n",
    "\n",
    "title_slide_layout = prs.slide_layouts[0]\n",
    "slide = prs.slides.add_slide(title_slide_layout)\n",
    "\n",
    "# 제목\n",
    "title = slide.placeholders[0]\n",
    "title.text = \"python-pptx를 사용해서 PPT 만들기\"\n",
    "\n",
    "# 부제목\n",
    "# 즉 제목은 placeholders[0], 부제목은 [1]\n",
    "subtitle = slide.placeholders[1]\n",
    "subtitle.text = \"python-pptx로 단락(paragraph) 만들기\"\n",
    "\n",
    "# 두 번째 슬라이드\n",
    "bullet_slide_layout = prs.slide_layouts[1]\n",
    "slide = prs.slides.add_slide(bullet_slide_layout)\n",
    "\n",
    "# 마찬가지로 [0] - 제목\n",
    "title_shape = slide.placeholders[0]\n",
    "title_shape.text = '문단 추가하기!'\n",
    "\n",
    "# 부제목인데 여기서는 내용물 작성하는 용도로 활용\n",
    "body_shape = slide.placeholders[1]\n",
    "# 글자 적는 공간이라고 알랴줌(text_frame)\n",
    "tf = body_shape.text_frame\n",
    "tf.text = '요렇게 글자를 추가합니다'\n",
    "\n",
    "# 새로운 문단 추가!\n",
    "p = tf.add_paragraph()\n",
    "p.text = '그 아래에 추가 문단이 들어갑니다.'\n",
    "# 들여쓰기\n",
    "p.level = 1\n",
    "\n",
    "p = tf.add_paragraph()\n",
    "p.text = '하나 더 추가해봅니다.'\n",
    "p.level = 2\n",
    "\n",
    "prs.save('글자쓰기.pptx')"
   ]
  },
  {
   "cell_type": "code",
   "execution_count": 15,
   "id": "44ef1bd2",
   "metadata": {},
   "outputs": [
    {
     "name": "stdout",
     "output_type": "stream",
     "text": [
      " C 드라이브의 볼륨: 오후반_OS\n",
      " 볼륨 일련 번호: E808-E5FC\n",
      "\n",
      " C:\\Users\\user2\\python_works\\PythonWorkshop-1 디렉터리\n",
      "\n",
      "2021-10-06  오후 04:15    <DIR>          .\n",
      "2021-10-06  오후 04:15    <DIR>          ..\n",
      "2021-09-17  오후 05:46             1,928 .gitignore\n",
      "2021-10-06  오후 03:59    <DIR>          .ipynb_checkpoints\n",
      "2021-09-23  오후 05:43            14,823 Array.ipynb\n",
      "2021-09-28  오후 07:33            50,831 Class.ipynb\n",
      "2021-09-24  오후 07:01                37 colors\n",
      "2021-09-23  오후 08:06             8,476 ControlStatement.ipynb\n",
      "2021-09-23  오후 04:18             4,087 DataType.ipynb\n",
      "2021-09-27  오후 09:16             1,621 exception_test.ipynb\n",
      "2021-09-24  오후 07:19            29,669 FileIO.ipynb\n",
      "2021-09-24  오후 05:53            15,511 Function(Method).ipynb\n",
      "2021-10-01  오후 08:43             9,880 kakao_friends_msg_api.ipynb\n",
      "2021-10-01  오후 06:00            15,980 kakao_msg_api.ipynb\n",
      "2021-09-28  오후 07:53             2,382 operator_overload.ipynb\n",
      "2021-10-05  오후 09:49           402,051 order_test.ipynb\n",
      "2021-10-06  오후 04:15            11,221 pptx_control.ipynb\n",
      "2021-10-05  오후 05:11             5,468 python_response.ipynb\n",
      "2021-09-17  오후 07:52            19,755 python_taste.ipynb\n",
      "2021-09-17  오후 05:46                51 README.md\n",
      "2021-09-17  오후 07:05            27,952 request_success.jpg\n",
      "2021-10-01  오후 06:01    <DIR>          res\n",
      "2021-09-24  오후 07:14                47 test\n",
      "2021-10-06  오후 04:05            28,310 test.pptx\n",
      "2021-09-24  오후 06:10                83 test.txt\n",
      "2021-10-06  오후 04:15            29,290 글자쓰기.pptx\n",
      "2021-10-06  오후 03:59            36,383 모든슬라이드추가.pptx\n",
      "              23개 파일             715,836 바이트\n",
      "               4개 디렉터리  147,453,730,816 바이트 남음\n"
     ]
    }
   ],
   "source": [
    "!dir"
   ]
  },
  {
   "cell_type": "code",
   "execution_count": 16,
   "id": "963df310",
   "metadata": {},
   "outputs": [],
   "source": [
    "del prs"
   ]
  },
  {
   "cell_type": "code",
   "execution_count": 18,
   "id": "1bed16be",
   "metadata": {},
   "outputs": [],
   "source": [
    "prs = Presentation()\n",
    "\n",
    "title_slide_layout = prs.slide_layouts[0]\n",
    "slide = prs.slides.add_slide(title_slide_layout)\n",
    "\n",
    "# 제목\n",
    "title = slide.placeholders[0]\n",
    "title.text = \"python-pptx로 사진 넣기!\"\n",
    "\n",
    "# 부제목\n",
    "# 즉 제목은 placeholders[0], 부제목은 [1]\n",
    "subtitle = slide.placeholders[1]\n",
    "subtitle.text = \"이게 되네 ?\"\n",
    "\n",
    "img_path = \"res/ppt/bonobono.jpg\"\n",
    "\n",
    "# 6번이 아까 빈 슬라이드였음\n",
    "img_slide_layout = prs.slide_layouts[6]\n",
    "slide = prs.slides.add_slide(img_slide_layout)\n",
    "\n",
    "left = top = Inches(1)\n",
    "width = height = Inches(1)\n",
    "\n",
    "pic = slide.shapes.add_picture(img_path, left, top, width=width, height=height)\n",
    "\n",
    "left = Inches(3)\n",
    "width = Inches(5.5)\n",
    "height = Inches(4)\n",
    "pic = slide.shapes.add_picture(img_path, left, top, width=width, height=height)\n",
    "\n",
    "prs.save('이미지.pptx')"
   ]
  },
  {
   "cell_type": "code",
   "execution_count": 19,
   "id": "ae07f65f",
   "metadata": {},
   "outputs": [
    {
     "name": "stdout",
     "output_type": "stream",
     "text": [
      " C 드라이브의 볼륨: 오후반_OS\n",
      " 볼륨 일련 번호: E808-E5FC\n",
      "\n",
      " C:\\Users\\user2\\python_works\\PythonWorkshop-1 디렉터리\n",
      "\n",
      "2021-10-06  오후 04:37    <DIR>          .\n",
      "2021-10-06  오후 04:37    <DIR>          ..\n",
      "2021-09-17  오후 05:46             1,928 .gitignore\n",
      "2021-10-06  오후 03:59    <DIR>          .ipynb_checkpoints\n",
      "2021-09-23  오후 05:43            14,823 Array.ipynb\n",
      "2021-09-28  오후 07:33            50,831 Class.ipynb\n",
      "2021-09-24  오후 07:01                37 colors\n",
      "2021-09-23  오후 08:06             8,476 ControlStatement.ipynb\n",
      "2021-09-23  오후 04:18             4,087 DataType.ipynb\n",
      "2021-09-27  오후 09:16             1,621 exception_test.ipynb\n",
      "2021-09-24  오후 07:19            29,669 FileIO.ipynb\n",
      "2021-09-24  오후 05:53            15,511 Function(Method).ipynb\n",
      "2021-10-01  오후 08:43             9,880 kakao_friends_msg_api.ipynb\n",
      "2021-10-01  오후 06:00            15,980 kakao_msg_api.ipynb\n",
      "2021-09-28  오후 07:53             2,382 operator_overload.ipynb\n",
      "2021-10-05  오후 09:49           402,051 order_test.ipynb\n",
      "2021-10-06  오후 04:37            16,912 pptx_control.ipynb\n",
      "2021-10-05  오후 05:11             5,468 python_response.ipynb\n",
      "2021-09-17  오후 07:52            19,755 python_taste.ipynb\n",
      "2021-09-17  오후 05:46                51 README.md\n",
      "2021-09-17  오후 07:05            27,952 request_success.jpg\n",
      "2021-10-06  오후 04:32    <DIR>          res\n",
      "2021-09-24  오후 07:14                47 test\n",
      "2021-10-06  오후 04:05            28,310 test.pptx\n",
      "2021-09-24  오후 06:10                83 test.txt\n",
      "2021-10-06  오후 04:15            29,290 글자쓰기.pptx\n",
      "2021-10-06  오후 03:59            36,383 모든슬라이드추가.pptx\n",
      "2021-10-06  오후 04:37            51,134 이미지.pptx\n",
      "              24개 파일             772,661 바이트\n",
      "               4개 디렉터리  147,449,794,560 바이트 남음\n"
     ]
    }
   ],
   "source": [
    "!dir"
   ]
  },
  {
   "cell_type": "code",
   "execution_count": 20,
   "id": "eb7b15d2",
   "metadata": {},
   "outputs": [],
   "source": [
    "del prs"
   ]
  },
  {
   "cell_type": "code",
   "execution_count": 21,
   "id": "3268f8c7",
   "metadata": {},
   "outputs": [],
   "source": [
    "prs = Presentation()\n",
    "\n",
    "title_slide_layout = prs.slide_layouts[0]\n",
    "slide = prs.slides.add_slide(title_slide_layout)\n",
    "\n",
    "# 제목\n",
    "title = slide.placeholders[0]\n",
    "title.text = \"python-pptx로 표 만들기!\"\n",
    "\n",
    "# 부제목\n",
    "# 즉 제목은 placeholders[0], 부제목은 [1]\n",
    "subtitle = slide.placeholders[1]\n",
    "subtitle.text = \"사실상 요게 핵심!\"\n",
    "\n",
    "# 5번이 표 양식임\n",
    "table_slide_layout = prs.slide_layouts[5]\n",
    "slide = prs.slides.add_slide(table_slide_layout)\n",
    "shapes = slide.shapes\n",
    "\n",
    "title_shape = slide.placeholders[0]\n",
    "title_shape.text = '표 추가하기'\n",
    "\n",
    "rows = cols = 2\n",
    "left = top = Inches(2)\n",
    "width = Inches(6)\n",
    "height = Inches(0.8)\n",
    "\n",
    "table = shapes.add_table(rows, cols, left, top, width, height).table\n",
    "\n",
    "# 열의 폭\n",
    "table.columns[0].width = Inches(2)\n",
    "table.columns[1].width = Inches(4)\n",
    "\n",
    "# 열의 제목\n",
    "table.cell(0, 0).text = '요기'\n",
    "table.cell(0, 1).text = '조기'\n",
    "\n",
    "# 셀 내용\n",
    "table.cell(1, 0).text = '와리'\n",
    "table.cell(1, 1).text = '가리'\n",
    "\n",
    "prs.save('이거시표다.pptx')"
   ]
  },
  {
   "cell_type": "code",
   "execution_count": 22,
   "id": "9c6afaab",
   "metadata": {},
   "outputs": [
    {
     "name": "stdout",
     "output_type": "stream",
     "text": [
      " C 드라이브의 볼륨: 오후반_OS\n",
      " 볼륨 일련 번호: E808-E5FC\n",
      "\n",
      " C:\\Users\\user2\\python_works\\PythonWorkshop-1 디렉터리\n",
      "\n",
      "2021-10-06  오후 04:56    <DIR>          .\n",
      "2021-10-06  오후 04:56    <DIR>          ..\n",
      "2021-09-17  오후 05:46             1,928 .gitignore\n",
      "2021-10-06  오후 03:59    <DIR>          .ipynb_checkpoints\n",
      "2021-09-23  오후 05:43            14,823 Array.ipynb\n",
      "2021-09-28  오후 07:33            50,831 Class.ipynb\n",
      "2021-09-24  오후 07:01                37 colors\n",
      "2021-09-23  오후 08:06             8,476 ControlStatement.ipynb\n",
      "2021-09-23  오후 04:18             4,087 DataType.ipynb\n",
      "2021-09-27  오후 09:16             1,621 exception_test.ipynb\n",
      "2021-09-24  오후 07:19            29,669 FileIO.ipynb\n",
      "2021-09-24  오후 05:53            15,511 Function(Method).ipynb\n",
      "2021-10-01  오후 08:43             9,880 kakao_friends_msg_api.ipynb\n",
      "2021-10-01  오후 06:00            15,980 kakao_msg_api.ipynb\n",
      "2021-09-28  오후 07:53             2,382 operator_overload.ipynb\n",
      "2021-10-05  오후 09:49           402,051 order_test.ipynb\n",
      "2021-10-06  오후 04:56            19,451 pptx_control.ipynb\n",
      "2021-10-05  오후 05:11             5,468 python_response.ipynb\n",
      "2021-09-17  오후 07:52            19,755 python_taste.ipynb\n",
      "2021-09-17  오후 05:46                51 README.md\n",
      "2021-09-17  오후 07:05            27,952 request_success.jpg\n",
      "2021-10-06  오후 04:32    <DIR>          res\n",
      "2021-09-24  오후 07:14                47 test\n",
      "2021-10-06  오후 04:05            28,310 test.pptx\n",
      "2021-09-24  오후 06:10                83 test.txt\n",
      "2021-10-06  오후 04:15            29,290 글자쓰기.pptx\n",
      "2021-10-06  오후 03:59            36,383 모든슬라이드추가.pptx\n",
      "2021-10-06  오후 04:56            29,409 이거시표다.pptx\n",
      "2021-10-06  오후 04:43            55,960 이미지.pptx\n",
      "              25개 파일             809,435 바이트\n",
      "               4개 디렉터리  147,451,518,976 바이트 남음\n"
     ]
    }
   ],
   "source": [
    "!dir"
   ]
  },
  {
   "cell_type": "code",
   "execution_count": null,
   "id": "54c948a6",
   "metadata": {},
   "outputs": [],
   "source": []
  }
 ],
 "metadata": {
  "kernelspec": {
   "display_name": "Python 3",
   "language": "python",
   "name": "python3"
  },
  "language_info": {
   "codemirror_mode": {
    "name": "ipython",
    "version": 3
   },
   "file_extension": ".py",
   "mimetype": "text/x-python",
   "name": "python",
   "nbconvert_exporter": "python",
   "pygments_lexer": "ipython3",
   "version": "3.8.8"
  }
 },
 "nbformat": 4,
 "nbformat_minor": 5
}
