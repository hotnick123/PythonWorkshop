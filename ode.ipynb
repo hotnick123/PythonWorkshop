{
 "cells": [
  {
   "cell_type": "code",
   "execution_count": 1,
   "id": "b48a4534",
   "metadata": {},
   "outputs": [],
   "source": [
    "def euler(t, ht, y, n , func):\n",
    "    f = [0] * (n + 1)\n",
    "    \n",
    "    func(t, y, f)\n",
    "    for i in range(1, n + 1):\n",
    "        y[i] += ht * f[i]\n",
    "        \n",
    "def euler_pc(t, ht, y, n, func):\n",
    "    f1 = [0] * (n + 1)\n",
    "    f2 = [0] * (n + 1)\n",
    "    yt = [0] * (n + 1)\n",
    "    \n",
    "    func(t, y, f1)\n",
    "    for i in range(1, n + 1):\n",
    "        yt[i] = y[i] + ht * f1[i]\n",
    "        \n",
    "    func(t + ht, yt, f2)\n",
    "    \n",
    "    ht2 = ht / 2e0\n",
    "    for i in range(1, n + 1):\n",
    "        y[i] += ht2 * (f1[i] + f2[i])"
   ]
  },
  {
   "cell_type": "code",
   "execution_count": 3,
   "id": "0b1150bf",
   "metadata": {},
   "outputs": [],
   "source": [
    "from math import *\n",
    "\n",
    "# y'' + y = 0, y(0) = y0, y'(0) = y'0\n",
    "def func(t, y, f):\n",
    "    f[1] = y[2]\n",
    "    f[2] = -y[1]\n",
    "    \n",
    "y0 = 0e0\n",
    "dy0 = 1e0\n",
    "tmax = 100e0\n",
    "ht = 0.05e0\n",
    "\n",
    "n = 2\n",
    "y = [0] * (n + 1)\n",
    "\n",
    "out = open(\"ode.txt\", \"w\")\n",
    "out.write(\"t y1 y2 check\\n\")\n",
    "\n",
    "t = 0e0\n",
    "y[1] = y0\n",
    "y[2] = dy0\n",
    "out.write((\"{0:10.5f}{1:10.5f}{2:10.5f}{3:10.5f}\\n\").\\\n",
    "         format(t, y[1], y[2], y[1] * y[1] + y[2] * y[2]))\n",
    "\n",
    "while (t + ht <= tmax):\n",
    "    euler(t, ht, y, n, func)\n",
    "    t += ht\n",
    "    \n",
    "    out.write((\"{0:10.5f}{1:10.5f}{2:10.5f}{3:10.5f}\\n\").\\\n",
    "         format(t, y[1], y[2], y[1] * y[1] + y[2] * y[2]))\n",
    "    \n",
    "out.close()"
   ]
  },
  {
   "cell_type": "code",
   "execution_count": null,
   "id": "98c19dd4",
   "metadata": {},
   "outputs": [],
   "source": []
  }
 ],
 "metadata": {
  "kernelspec": {
   "display_name": "Python 3",
   "language": "python",
   "name": "python3"
  },
  "language_info": {
   "codemirror_mode": {
    "name": "ipython",
    "version": 3
   },
   "file_extension": ".py",
   "mimetype": "text/x-python",
   "name": "python",
   "nbconvert_exporter": "python",
   "pygments_lexer": "ipython3",
   "version": "3.8.8"
  }
 },
 "nbformat": 4,
 "nbformat_minor": 5
}
