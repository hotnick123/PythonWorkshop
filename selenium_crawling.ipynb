{
 "cells": [
  {
   "cell_type": "code",
   "execution_count": 1,
   "id": "5ecca962",
   "metadata": {},
   "outputs": [],
   "source": [
    "!pip install selenium"
   ]
  },
  {
   "cell_type": "code",
   "execution_count": 2,
   "id": "5634e437",
   "metadata": {},
   "outputs": [],
   "source": [
    "import selenium"
   ]
  },
  {
   "cell_type": "code",
   "execution_count": 4,
   "id": "92655eda",
   "metadata": {},
   "outputs": [],
   "source": [
    "from selenium import webdriver"
   ]
  },
  {
   "cell_type": "code",
   "execution_count": null,
   "id": "25c30d85",
   "metadata": {},
   "outputs": [],
   "source": [
    "# https://sites.google.com/a/chromium.org/chromedriver/home\n",
    "# Latest stable release 다운로드\n",
    "# 각각의 운영체제에 맞게 압축 해제한다.\n",
    "# 윈도우의 경우엔 c 드라이브 밑에 배치한다.\n",
    "# 리눅스나 유닉스 계열은 원하는 위치에 놓고 해당 경로가 어디인지 파악해둔다."
   ]
  },
  {
   "cell_type": "code",
   "execution_count": 51,
   "id": "f79425c3",
   "metadata": {},
   "outputs": [],
   "source": [
    "url = \"https://www.youtube.com/\"\n",
    "\n",
    "# /home/test/proj/crawl/chromedriver\n",
    "driver = webdriver.Chrome(r\"C:\\chromedriver.exe\")\n",
    "driver.get(url = url)"
   ]
  },
  {
   "cell_type": "code",
   "execution_count": 52,
   "id": "0595e38c",
   "metadata": {},
   "outputs": [
    {
     "name": "stdout",
     "output_type": "stream",
     "text": [
      "https://www.youtube.com/\n",
      "YouTube\n"
     ]
    }
   ],
   "source": [
    "print(driver.current_url)\n",
    "print(driver.title)"
   ]
  },
  {
   "cell_type": "code",
   "execution_count": 50,
   "id": "2dae9d7b",
   "metadata": {},
   "outputs": [
    {
     "name": "stdout",
     "output_type": "stream",
     "text": [
      "\n"
     ]
    }
   ],
   "source": [
    "# 광고 없다는 전제하에 30초마다 넘기기\n",
    "import time\n",
    "\n",
    "allContents = driver.find_elements_by_css_selector(\n",
    "    \"#contents > ytd-rich-item-renderer > div > ytd-rich-grid-media > div > ytd-thumbnail > a\"\n",
    ")\n",
    "#print(allContents)\n",
    "\n",
    "for item in allContents:\n",
    "    item.click()\n",
    "    time.sleep(30)\n",
    "    driver.back()"
   ]
  },
  {
   "cell_type": "code",
   "execution_count": 54,
   "id": "03782fc1",
   "metadata": {},
   "outputs": [
    {
     "name": "stdout",
     "output_type": "stream",
     "text": [
      "['https://www.youtube.com/watch?v=SgrBMreVPD8', 'https://www.youtube.com/watch?v=Nh27WsNdymo', 'https://www.youtube.com/watch?v=N5crYlr0wbM', 'https://www.youtube.com/watch?v=qsRD188fQCs', 'https://www.youtube.com/watch?v=_2Ui6MZhNaQ', 'https://www.youtube.com/watch?v=6q4DSKFn_k8', 'https://www.youtube.com/watch?v=KsVC_QQPg60', 'https://www.youtube.com/watch?v=2VMpUb3_DmA', 'https://www.youtube.com/watch?v=qo9Ri1qPInM', 'https://www.youtube.com/watch?v=8rd_E4cmcBg', 'https://www.youtube.com/watch?v=SyDBXuGs7as', 'https://www.youtube.com/watch?v=Z5-6wbdbgA4', 'https://www.youtube.com/watch?v=Yqu16-aTFso', 'https://www.youtube.com/watch?v=NIZGjl7fqns', 'https://www.youtube.com/watch?v=lFgLYJvo0Jc', 'https://www.youtube.com/watch?v=6FPLU6wCMRk', 'https://www.youtube.com/watch?v=ySycKqADmaA', 'https://www.youtube.com/watch?v=I3OFk6tF9cI', 'https://www.youtube.com/watch?v=rTCKB7F8eoU', 'https://www.youtube.com/watch?v=khbgBdNfQYA', 'https://www.youtube.com/watch?v=oFuQhfVd-lQ', 'https://www.youtube.com/watch?v=Dx5qFachd3A', 'https://www.youtube.com/watch?v=hr2xGbc6jO0', 'https://www.youtube.com/watch?v=5fuoFf79DrY', 'https://www.youtube.com/watch?v=yXz47iRuD0Y', 'https://www.youtube.com/watch?v=_I4fjFUb2KE', 'https://www.youtube.com/watch?v=0l-WyZmUVig', 'https://www.youtube.com/watch?v=wuUtnXmi7zs', 'https://www.youtube.com/watch?v=BTDfpCqtqk0', 'https://www.youtube.com/watch?v=XQLmFuqVri0', 'https://www.youtube.com/watch?v=y4rPNCXOeMs', 'https://www.youtube.com/watch?v=1SnDoCYRZUE']\n"
     ]
    }
   ],
   "source": [
    "# URL 확보\n",
    "allContents = driver.find_elements_by_css_selector(\n",
    "    \"#contents > ytd-rich-item-renderer > div > ytd-rich-grid-media > div > ytd-thumbnail > a\"\n",
    ")\n",
    "\n",
    "hrefURL = []\n",
    "\n",
    "for item in allContents:\n",
    "    if (item != ''):\n",
    "        hrefURL.append(item.get_attribute('href'))\n",
    "        \n",
    "print(hrefURL)"
   ]
  },
  {
   "cell_type": "code",
   "execution_count": 55,
   "id": "7bd594df",
   "metadata": {},
   "outputs": [],
   "source": [
    "driver.close()"
   ]
  },
  {
   "cell_type": "code",
   "execution_count": 59,
   "id": "ebfc8950",
   "metadata": {},
   "outputs": [
    {
     "name": "stdout",
     "output_type": "stream",
     "text": [
      "[None, None, None, None, '2021년 하반기 어떤 스마트폰이 나올까? 하반기 스마트폰 기대작 BEST 5 미리보기! 게시자: 인스펙팅룸 InspectingRoom 3개월 전 10분 27초 조회수 262,768회', None, None, None, None, None, '역대급 스마트폰들의 향연! 2021년 스마트폰 기대작 TOP 6 미리보기! 게시자: 인스펙팅룸 InspectingRoom 9개월 전 11분 35초 조회수 351,057회', None, None, None, None, None, '10월초(1~10일) 구입 추천 휴대폰입니다. 게시자: 휴대폰 지식인 6일 전 5분 43초 조회수 12,625회', None, None, None, None, None, '완전 새로운 삼성 갤럭시 3종 / 슬라이더블 폰, S-폴더블, 17인치 폴더블 + UPC 게시자: B-NOTE 비노트 cause I am 4개월 전 4분 20초 조회수 663,206회', None, None, None, None, None, '남친이 길가다 주운 최신폰을 그냥 가지자고 하는데 어떡하죠;; | BOYFRIEND STOLE A LOST PHONE!! 게시자: 채꾸똥꾸 (Cherry & Dong) 1년 전 10분 50초 조회수 1,107,233회', None, None, None, None, None, '갤럭시S21 VS 아이폰12 장단점 비교 나에게 맞는 폰은? 게시자: To Much IT 8개월 전 7분 14초 조회수 221,472회', None, None, None, None, None, '노트20보다 더 좋은기능 있는데 80만원 싸다!? 보급형 스마트폰 전쟁. 갤럭시 A32 사용기! 게시자: ITSub잇섭 6개월 전 10분 12초 조회수 1,154,739회', None, None, None, None, None, '2021년 스마트폰/태블릿 사기 전 꼭 봐야하는 영상! 올해 나올 신제품 출시 예정일 총정리. 아무 때나 사지 마세요 게시자: ITSub잇섭 7개월 전 11분 58초 조회수 589,221회', None, None, None, None, None, '위아래로 접히는 갤럭시Z플립 진짜로 샀습니다! 좋은지 나쁜지 사용해보자! - 허팝(Galaxy Z Filp) 게시자: 허팝Heopop 1년 전 10분 16초 조회수 2,468,745회', None, None, None, None, None, '9월초(1~10일) 구입 추천 휴대폰입니다. 게시자: 휴대폰 지식인 1개월 전 6분 3초 조회수 21,986회', None, None, None, None, None, '삼성 갤럭시S22 - 주요 변화 5가지 게시자: 인스펙팅룸 InspectingRoom 1개월 전 6분 22초 조회수 308,705회', None, None, None, None, None, '확 트였다!! 갤럭시 Z 폴드2 개봉기 [4K] 게시자: UNDERkg 1년 전 20분 조회수 993,724회', None, None, None, None, None, None, None, '자급제폰이 싼지? 약정폰이 싼지? 정확히 알려드립니다. 게시자: 휴대폰 지식인 5개월 전 7분 2초 조회수 42,883회', None, None, None, None, None, '갤럭시 노트10+ vs 노트20 vs 노트20울트라! 뭘 사야할지 정해드림! 게시자: 꿀단지PD 1년 전 10분 23초 조회수 825,848회', None, None, None, None, None, '휴대폰 싸게 사는 법(휴대폰 성지 갤럭시S21 0원 / 판매점 갤럭시S21 30만원) 게시자: 휴대폰 지식인 3개월 전 6분 2초 조회수 48,937회', None, None, None, None, None, '졸업선물로 고가의 휴대전화를 사달라는 13살 아들 [무엇이든 물어보살] | KBS Joy 210208 방송 게시자: KBS N 7개월 전 15분 조회수 1,707,582회', None, None, None, None, None, '+6개 더보기', None, '찐텐 나오는 갤럭시S21+ 장기 사용후기 & 케이스 추천 (ENG SUB) 게시자: 주연 ZUYONI 6개월 전 17분 조회수 597,807회', None, None, None, None, None, '9월중순(11~20일) 구입 추천 휴대폰입니다. 게시자: 휴대폰 지식인 3주 전 6분 7초 조회수 17,277회', None, None, None, None, None, '엄청 예쁜데.. 쉽게 추천 못 하는 이유? 찐으로 3주 써본 삼성 갤럭시 Z 플립 사용기! 게시자: ITSub잇섭 1년 전 14분 9초 조회수 2,541,211회', None, None, None, None, None, '세상에서 제일 비싼 600만원짜리 스마트폰을 직접 써봤습니다! [갤럭시 폴드2 톰브라운] 게시자: 공대생 변승주 DS 1년 전 10분 58초 조회수 1,216,891회', None, None, None, None, None, '2021년에 기대되는 최고의 스마트폰 Best 6!! 한눈에 보는 2021 스마트폰! 게시자: [TheSINZA]더신자 : 편안한 IT리뷰 9개월 전 6분 50초 조회수 125,725회', None, None, None, None, None, '와우 대박~ 마이린에게 신기한 폰이 생겼어요! 완전 최신! 완전 신기 ♡ LG WING 어떻게 쓰면 좋을까 | 마이린 TV 게시자: 마이린 TV 1년 전 10분 4초 조회수 149,323회', None, None, None, None, None, '가짜 핸드폰 판매하는 멕시코 시장. 갤럭시, 아이폰, 최신폰 다 있다. 디자인과 성능 비교를 위해 현장에서 언박싱과 리뷰를... 게시자: GoGo 하늘 1년 전 9분 34초 조회수 2,090회', None, None, None, None, None, '7월초(1~10일) 구입 추천 휴대폰입니다. 게시자: 휴대폰 지식인 3개월 전 5분 49초 조회수 16,615회', None, None, None, None, None, None, None, None, None, None]\n"
     ]
    }
   ],
   "source": [
    "url = \"https://www.youtube.com/results?search_query=\"\n",
    "\n",
    "# /home/test/proj/crawl/chromedriver\n",
    "driver = webdriver.Chrome(r\"C:\\chromedriver.exe\")\n",
    "\n",
    "text = '최신폰'\n",
    "\n",
    "search_url = url + text\n",
    "driver.get(url = search_url)\n",
    "\n",
    "allTitles = driver.find_elements_by_css_selector(\n",
    "    \"yt-formatted-string\"\n",
    ")\n",
    "#print(allTitles)\n",
    "\n",
    "titles = []\n",
    "\n",
    "for item in allTitles:\n",
    "    if (item != ''):\n",
    "        titles.append(item.get_attribute('aria-label'))\n",
    "        \n",
    "print(titles)"
   ]
  },
  {
   "cell_type": "code",
   "execution_count": 60,
   "id": "3b37f5df",
   "metadata": {},
   "outputs": [
    {
     "name": "stdout",
     "output_type": "stream",
     "text": [
      "['Z플립2 3통신사 시세대전? 0원', '2021년 하반기 어떤 스마트폰이 나올까? 하반기 스마트폰 기대작 BEST 5 미리보기!', '역대급 스마트폰들의 향연! 2021년 스마트폰 기대작 TOP 6 미리보기!', '10월초(1~10일) 구입 추천 휴대폰입니다.', '완전 새로운 삼성 갤럭시 3종 / 슬라이더블 폰, S-폴더블, 17인치 폴더블 + UPC', '남친이 길가다 주운 최신폰을 그냥 가지자고 하는데 어떡하죠;; | BOYFRIEND STOLE A LOST PHONE!!', '갤럭시S21 VS 아이폰12 장단점 비교 나에게 맞는 폰은?', '노트20보다 더 좋은기능 있는데 80만원 싸다!? 보급형 스마트폰 전쟁. 갤럭시 A32 사용기!', '2021년 스마트폰/태블릿 사기 전 꼭 봐야하는 영상! 올해 나올 신제품 출시 예정일 총정리. 아무 때나 사지 마세요', '위아래로 접히는 갤럭시Z플립 진짜로 샀습니다! 좋은지 나쁜지 사용해보자! - 허팝(Galaxy Z Filp)', '9월초(1~10일) 구입 추천 휴대폰입니다.', '스마트폰 저렴하고 현명하게 사는 방법! 어디까지 알고 계세요? (대리점, 테크노마트, 성지 등 7가지 방법)', '스마트폰 을 새폰처럼 사용하는법 _최신 기능으로 업데이트및 설정하여 최신 휴대폰처럼 사용하기(2~3년 이상 된 핸드폰이라면 점검해 서 새폰처럼 만들기)', '삼성 갤럭시S22 - 주요 변화 5가지', '확 트였다!! 갤럭시 Z 폴드2 개봉기 [4K]', '자급제폰이 싼지? 약정폰이 싼지? 정확히 알려드립니다.', '졸업선물로 고가의 휴대전화를 사달라는 13살 아들 [무엇이든 물어보살] | KBS Joy 210208 방송', '휴대폰 싸게 사는 법(휴대폰 성지 갤럭시S21 0원 / 판매점 갤럭시S21 30만원)', '올해 스마트폰 가성비 끝판왕. 갤럭시 퀀텀2 놀라운 스펙의 5G폰. 이 가격이 가능해? 거기에 양자보안까지. 빅테크 SKT가 한건함', '엄청 예쁜데.. 쉽게 추천 못 하는 이유? 찐으로 3주 써본 삼성 갤럭시 Z 플립 사용기!', '세상에서 제일 비싼 600만원짜리 스마트폰을 직접 써봤습니다! [갤럭시 폴드2 톰브라운]', '찐텐 나오는 갤럭시S21+ 장기 사용후기 & 케이스 추천 (ENG SUB)', '9월중순(11~20일) 구입 추천 휴대폰입니다.', '2021년에 기대되는 최고의 스마트폰 Best 6!! 한눈에 보는 2021 스마트폰!', '와우 대박~ 마이린에게 신기한 폰이 생겼어요! 완전 최신! 완전 신기 ♡ LG WING 어떻게 쓰면 좋을까 | 마이린 TV', '7월초(1~10일) 구입 추천 휴대폰입니다.', '스즈키 S750 - 속초를 떠났다. 시원하면서 추웠고 더웠다. 앞은 안보이되 경치는 좋았네.']\n"
     ]
    }
   ],
   "source": [
    "url = \"https://www.youtube.com/results?search_query=\"\n",
    "\n",
    "# /home/test/proj/crawl/chromedriver\n",
    "driver = webdriver.Chrome(r\"C:\\chromedriver.exe\")\n",
    "\n",
    "text = '최신폰'\n",
    "\n",
    "search_url = url + text\n",
    "driver.get(url = search_url)\n",
    "\n",
    "allTitles = driver.find_elements_by_id(\n",
    "    \"video-title\"\n",
    ")\n",
    "#print(allTitles)\n",
    "\n",
    "titles = []\n",
    "\n",
    "for item in allTitles:\n",
    "    if (item != ''):\n",
    "        titles.append(item.get_attribute('title'))\n",
    "        \n",
    "print(titles)"
   ]
  },
  {
   "cell_type": "code",
   "execution_count": null,
   "id": "8ef21a80",
   "metadata": {},
   "outputs": [],
   "source": []
  },
  {
   "cell_type": "code",
   "execution_count": 45,
   "id": "a47f4e1c",
   "metadata": {},
   "outputs": [],
   "source": [
    "driver.close()"
   ]
  },
  {
   "cell_type": "code",
   "execution_count": null,
   "id": "b8ec66f1",
   "metadata": {},
   "outputs": [],
   "source": []
  }
 ],
 "metadata": {
  "kernelspec": {
   "display_name": "Python 3",
   "language": "python",
   "name": "python3"
  },
  "language_info": {
   "codemirror_mode": {
    "name": "ipython",
    "version": 3
   },
   "file_extension": ".py",
   "mimetype": "text/x-python",
   "name": "python",
   "nbconvert_exporter": "python",
   "pygments_lexer": "ipython3",
   "version": "3.8.8"
  }
 },
 "nbformat": 4,
 "nbformat_minor": 5
}
