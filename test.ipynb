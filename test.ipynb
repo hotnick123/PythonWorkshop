{
 "cells": [
  {
   "cell_type": "code",
   "execution_count": 22,
   "metadata": {},
   "outputs": [
    {
     "name": "stdout",
     "output_type": "stream",
     "text": [
      "{'error': 'invalid_grant', 'error_description': 'authorization code not found for code=zd2TXxrlUbGyJxfqSWzrGqBC9CX-8Xj0UHWsMZdguP2BWUJiw8VqLCoOolJQXqPaV09UYwo9cpcAAAF8T7rO_A', 'error_code': 'KOE320'}\n"
     ]
    }
   ],
   "source": [
    "import requests\n",
    "\n",
    "url = 'https://kauth.kakao.com/oauth/token'\n",
    "rest_api_key = '51094f0078fb3453bd5b23aac6ca7a28'\n",
    "redirect_uri = 'http://localhost:8080'\n",
    "authorize_code = 'zd2TXxrlUbGyJxfqSWzrGqBC9CX-8Xj0UHWsMZdguP2BWUJiw8VqLCoOolJQXqPaV09UYwo9cpcAAAF8T7rO_A'\n",
    "\n",
    "data = {\n",
    "    'grant_type':'authorization_code',\n",
    "    'client_id':rest_api_key,\n",
    "    'redirect_uri':redirect_uri,\n",
    "    'code': authorize_code,\n",
    "    }\n",
    "\n",
    "response = requests.post(url, data=data)\n",
    "tokens = response.json()\n",
    "print(tokens)\n",
    "\n",
    "# json 저장\n",
    "import json\n",
    "#1.\n",
    "with open(r\"E:\\java_work\\python_works\\kakao_code.json\",\"w\") as fp:\n",
    "    json.dump(tokens, fp)\n",
    "\n",
    "# import json\n",
    "# #1.\n",
    "# with open(r\"E:\\java_work\\python_works\\kakao_code.json\",\"r\") as fp:\n",
    "#     ts = json.load(fp)\n",
    "# print(ts)\n",
    "# print(ts[\"access_token\"])"
   ]
  },
  {
   "cell_type": "code",
   "execution_count": null,
   "metadata": {},
   "outputs": [],
   "source": []
  }
 ],
 "metadata": {
  "kernelspec": {
   "display_name": "Python 3",
   "language": "python",
   "name": "python3"
  },
  "language_info": {
   "codemirror_mode": {
    "name": "ipython",
    "version": 3
   },
   "file_extension": ".py",
   "mimetype": "text/x-python",
   "name": "python",
   "nbconvert_exporter": "python",
   "pygments_lexer": "ipython3",
   "version": "3.8.5"
  }
 },
 "nbformat": 4,
 "nbformat_minor": 4
}
