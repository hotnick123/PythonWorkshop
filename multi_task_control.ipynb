{
 "cells": [
  {
   "cell_type": "code",
   "execution_count": 1,
   "id": "b8d236d2",
   "metadata": {},
   "outputs": [],
   "source": [
    "import time\n",
    "import multiprocessing"
   ]
  },
  {
   "cell_type": "code",
   "execution_count": 5,
   "id": "4449a1cf",
   "metadata": {},
   "outputs": [
    {
     "name": "stdout",
     "output_type": "stream",
     "text": [
      "<Process name='Process-3' parent=1220 initial>\n"
     ]
    }
   ],
   "source": [
    "# Unix, Linux, Windows의 Task Management(운영체제의 5대 요소중 하나)\n",
    "# 이를 제어하는 방식이 다르기 때문에 multiprocessing의 경우\n",
    "# Linux가 아닌 경우 동작에 문제가 발생할 수 있어보임\n",
    "\n",
    "# ps -ef\n",
    "# 윈도우의 Ctrl + Alt + Delete와 같은 기능을 수행함\n",
    "\n",
    "# 사실 이와 같은 부분 때문에 네트워크 장비들(스위치, 라우터) 계열이 전부 리눅스를 사용함\n",
    "# 속도 측면의 이슈가 큼(AWS - 리눅스)\n",
    "def count_down(x):\n",
    "    while True:\n",
    "        if x == 0:\n",
    "            break\n",
    "            \n",
    "        print(\"카운트: %d\" % x)\n",
    "        x -= 1\n",
    "        time.sleep(1)\n",
    "        \n",
    "p = multiprocessing.Process(target=count_down, args=(5, ))\n",
    "\n",
    "print(p)\n",
    "\n",
    "p.start()"
   ]
  },
  {
   "cell_type": "code",
   "execution_count": 6,
   "id": "1984b971",
   "metadata": {},
   "outputs": [],
   "source": [
    "# 윈도우, 맥은 멀티 프로세스 라이브러리가 사용이 불가능함\n",
    "# 그러므로 바로 스레드 라이브러리를 적용하도록 한다.\n",
    "import threading\n",
    "\n",
    "# Java에서 Thread를 사용했었는데 여기 중요한 개념이 몇 개 있음\n",
    "# 1) Critical Section 은 무엇인가 ?\n",
    "#    여러 프로세스나 스레드가 동시다발적으로 접근(write가 문제)할 수 있는 메모리 공간(변수 및 객체)\n",
    "# 2) 동기화 메커니즘(Mutex, Semaphore, Spinlock)을 사용하는 이유는 무엇인가 ?\n",
    "# ex) 회식 이후 친구가 계산했고 회식비 100만원 반땅하기로 했음\n",
    "#     1] 회식 이후 바로 송금\n",
    "#     2] 회식후 지하철(택시등등)에서 송금\n",
    "#     3] 회식후 집에가서 송금\n",
    "#     4] 회식후 몇 일 후 송금\n",
    "#     5] 회식후 몇 주 후 송금\n",
    "#     6] 회식후 몇 달 후 송금\n",
    "#     7] 회식후 몇 년 후 송금\n",
    "#     8] 회식후 장례식에서 송금\n",
    "\n",
    "# A 스레드\n",
    "# b = 1; c = 2\n",
    "# a = b + c     a = 3\n",
    "# b = c + d   <--- 실행\n",
    "# print(b)    <--- 원래는 2 + d가 되어야 할 것이 4 + d가 되었음\n",
    "\n",
    "# B 스레드\n",
    "# b = 3; c = 4\n",
    "# f = b + c    f = 7\n",
    "# c = f + a   <--- 실행\n",
    "# print(c)"
   ]
  },
  {
   "cell_type": "code",
   "execution_count": 9,
   "id": "24e2461c",
   "metadata": {
    "scrolled": true
   },
   "outputs": [
    {
     "name": "stdout",
     "output_type": "stream",
     "text": [
      "Hello\n",
      "Hello\n",
      "Hello\n",
      "Hello\n",
      "Hello\n",
      "Finish SleepFinish Sleep\n",
      "\n",
      "Finish Sleep\n",
      "Finish Sleep\n",
      "Finish Sleep\n",
      "Finished:  1.04초\n"
     ]
    }
   ],
   "source": [
    "def print_hello():\n",
    "    print(\"Hello\")\n",
    "    time.sleep(1)\n",
    "    print(\"Finish Sleep\")\n",
    "\n",
    "if __name__ == '__main__':\n",
    "    # 현재 시각을 계측함(start)\n",
    "    start = time.perf_counter()\n",
    "    threads = []\n",
    "    \n",
    "    # 5개의 스레드 객체를 생성\n",
    "    for _ in range(5):\n",
    "        t = threading.Thread(target = print_hello)\n",
    "        # start()를 해야지만 스레드가 구동 가능해짐\n",
    "        t.start()\n",
    "        threads.append(t)\n",
    "        \n",
    "    # 생성한 스레드 5개를 모두 구동시킴(Hello 출력)\n",
    "    # 이후 1초 쉬고 Finish Sleep 출력\n",
    "    for thread in threads:\n",
    "        # 실제 구동은 join()에서 한다고 보면 됨\n",
    "        thread.join()\n",
    "        \n",
    "    # 현재 시각을 계측(finish)\n",
    "    finish = time.perf_counter()\n",
    "    \n",
    "    # 끝 - 시작 = 동작하는데 걸린 시간\n",
    "    print(\"Finished: \", str(round(finish - start, 2)) + \"초\")"
   ]
  },
  {
   "cell_type": "code",
   "execution_count": 24,
   "id": "f1bd43c4",
   "metadata": {},
   "outputs": [
    {
     "name": "stdout",
     "output_type": "stream",
     "text": [
      "0 번째 반복 이후 x = 1480484\n",
      "1 번째 반복 이후 x = 1682308\n",
      "2 번째 반복 이후 x = 1758563\n",
      "3 번째 반복 이후 x = 1601512\n",
      "4 번째 반복 이후 x = 1872100\n",
      "5 번째 반복 이후 x = 1870972\n",
      "6 번째 반복 이후 x = 1863240\n",
      "7 번째 반복 이후 x = 1732919\n",
      "8 번째 반복 이후 x = 1786356\n",
      "9 번째 반복 이후 x = 1813023\n"
     ]
    }
   ],
   "source": [
    "# Critical Section에서 데이터 무결성이 지켜지지 않아 발생하는 문제\n",
    "import threading\n",
    "\n",
    "x = 0\n",
    "\n",
    "def increment_global():\n",
    "    global x\n",
    "    x += 1\n",
    "    \n",
    "def thread_task():\n",
    "    # _는 아무것도 받지 않고 그냥 넘기고 싶을 경우 사용함\n",
    "    for _ in range(1000000):\n",
    "        increment_global()\n",
    "        \n",
    "def thread_main():\n",
    "    global x\n",
    "    x = 0\n",
    "    \n",
    "    t1 = threading.Thread(target = thread_task)\n",
    "    t2 = threading.Thread(target = thread_task)\n",
    "    \n",
    "    t1.start()\n",
    "    t2.start()\n",
    "    \n",
    "    t1.join()\n",
    "    t2.join()\n",
    "    \n",
    "for i in range(10):\n",
    "    thread_main()\n",
    "    print(\"{0} 번째 반복 이후 x = {1}\".format(i, x))"
   ]
  },
  {
   "cell_type": "code",
   "execution_count": 29,
   "id": "716affdc",
   "metadata": {},
   "outputs": [
    {
     "name": "stdout",
     "output_type": "stream",
     "text": [
      "0 번째 반복 이후 x = 2000000\n",
      "1 번째 반복 이후 x = 2000000\n",
      "2 번째 반복 이후 x = 2000000\n",
      "3 번째 반복 이후 x = 2000000\n",
      "4 번째 반복 이후 x = 2000000\n",
      "5 번째 반복 이후 x = 2000000\n",
      "6 번째 반복 이후 x = 2000000\n",
      "7 번째 반복 이후 x = 2000000\n",
      "8 번째 반복 이후 x = 2000000\n",
      "9 번째 반복 이후 x = 2000000\n"
     ]
    }
   ],
   "source": [
    "# Critical Section에 동기화 메커니즘을 적용하여 데이터 무결성을 보장해보자!\n",
    "import threading\n",
    "\n",
    "lock = threading.Lock()\n",
    "\n",
    "x = 0\n",
    "\n",
    "def increment_global():\n",
    "    global x\n",
    "    x += 1\n",
    "    \n",
    "def thread_task():\n",
    "    # _는 아무것도 받지 않고 그냥 넘기고 싶을 경우 사용함\n",
    "    for _ in range(1000000):\n",
    "        lock.acquire()\n",
    "        increment_global()\n",
    "        lock.release()\n",
    "        \n",
    "def thread_main():\n",
    "    global x\n",
    "    x = 0\n",
    "    \n",
    "    t1 = threading.Thread(target = thread_task)\n",
    "    t2 = threading.Thread(target = thread_task)\n",
    "    \n",
    "    t1.start()\n",
    "    t2.start()\n",
    "    \n",
    "    t1.join()\n",
    "    t2.join()\n",
    "    \n",
    "for i in range(10):\n",
    "    thread_main()\n",
    "    print(\"{0} 번째 반복 이후 x = {1}\".format(i, x))"
   ]
  },
  {
   "cell_type": "code",
   "execution_count": 30,
   "id": "cefbaab9",
   "metadata": {},
   "outputs": [
    {
     "name": "stdout",
     "output_type": "stream",
     "text": [
      "0 번째 반복 이후 x = 2000000\n",
      "1 번째 반복 이후 x = 2000000\n",
      "2 번째 반복 이후 x = 2000000\n",
      "3 번째 반복 이후 x = 2000000\n",
      "4 번째 반복 이후 x = 2000000\n",
      "5 번째 반복 이후 x = 2000000\n",
      "6 번째 반복 이후 x = 2000000\n",
      "7 번째 반복 이후 x = 2000000\n",
      "8 번째 반복 이후 x = 2000000\n",
      "9 번째 반복 이후 x = 2000000\n"
     ]
    }
   ],
   "source": [
    "# 동기화 메커니즘은 Thread에 Context Switching(컨텍스트 스위칭)을 유발한다.\n",
    "# Memory Hierarchy(메모리 계층구조) 관점에서 메모리에 자주 접근하는 행위는 좋지 못하다.\n",
    "import threading\n",
    "\n",
    "lock = threading.Lock()\n",
    "\n",
    "x = 0\n",
    "\n",
    "def increment_global():\n",
    "    global x\n",
    "    x += 1\n",
    "    \n",
    "def thread_task():\n",
    "    lock.acquire()\n",
    "    \n",
    "    # _는 아무것도 받지 않고 그냥 넘기고 싶을 경우 사용함\n",
    "    for _ in range(1000000):    \n",
    "        increment_global()\n",
    "        \n",
    "    lock.release()\n",
    "        \n",
    "def thread_main():\n",
    "    global x\n",
    "    x = 0\n",
    "    \n",
    "    t1 = threading.Thread(target = thread_task)\n",
    "    t2 = threading.Thread(target = thread_task)\n",
    "    \n",
    "    t1.start()\n",
    "    t2.start()\n",
    "    \n",
    "    t1.join()\n",
    "    t2.join()\n",
    "    \n",
    "for i in range(10):\n",
    "    thread_main()\n",
    "    print(\"{0} 번째 반복 이후 x = {1}\".format(i, x))"
   ]
  },
  {
   "cell_type": "code",
   "execution_count": null,
   "id": "2e0138e1",
   "metadata": {},
   "outputs": [],
   "source": [
    "# 1. 연산속도 보다 우선시 해야할 것은 데이터의 무결성\n",
    "#    최소한 1번을 지켜서 작업을 해주도록 한다.\n",
    "# 2. 데이터 무결성이 보장된다는 가정하에 속도까지 올려주면 금상첨화\n",
    "# 3. 이런 속도를 올리는 구간에서는 기본기(이론)가 큰 영향을 끼치게 됨\n",
    "# 일반적으로는 1번이 가장 중요, 2, 3번은 곁다리\n",
    "\n",
    "# 논외로 취급하고 <<<\n",
    "# 4. 짬이 좀 더 차면 스레드를 공유되지 않게 사용해서 연산을 분할하는 방식을 취해도 됨\n",
    "# ex) 배열 인덱스 0 에는 A 스레드가 계산한 결과\n",
    "#     배열 인덱스 1 에는 B 스레드가 계산한 결과\n",
    "#     배열 인덱스 2 에는 C 스레드가 계산한 결과\n",
    "#     각 배열의 값을 합산하여 최종 결과를 얻음\n",
    "#     원래 걸릴 시간의 1/3 만 활용하며 동기화 없이 안정된 결과를 얻을 수 있음 <<<"
   ]
  }
 ],
 "metadata": {
  "kernelspec": {
   "display_name": "Python 3",
   "language": "python",
   "name": "python3"
  },
  "language_info": {
   "codemirror_mode": {
    "name": "ipython",
    "version": 3
   },
   "file_extension": ".py",
   "mimetype": "text/x-python",
   "name": "python",
   "nbconvert_exporter": "python",
   "pygments_lexer": "ipython3",
   "version": "3.8.8"
  }
 },
 "nbformat": 4,
 "nbformat_minor": 5
}
