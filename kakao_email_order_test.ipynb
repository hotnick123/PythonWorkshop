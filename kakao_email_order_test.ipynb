{
 "cells": [
  {
   "cell_type": "code",
   "execution_count": 1,
   "id": "7f8067e1",
   "metadata": {},
   "outputs": [],
   "source": [
    "from flask import Flask, url_for, request, jsonify, redirect, Response\n",
    "from flask_cors import CORS, cross_origin\n",
    "\n",
    "import json\n",
    "import requests"
   ]
  },
  {
   "cell_type": "code",
   "execution_count": 11,
   "id": "e51e2877",
   "metadata": {},
   "outputs": [],
   "source": [
    "KAKAO_TOKEN_SAVED_FILE = \"res/kakao_msg/kakao_token.json\"\n",
    "APP_KEY_SAVED_FILE = \"res/kakao_msg/app_key\"\n",
    "NAVER_USER_DATA_SAVED_FILE = \"res/naver/accout\""
   ]
  },
  {
   "cell_type": "code",
   "execution_count": 12,
   "id": "94d3bb39",
   "metadata": {},
   "outputs": [],
   "source": [
    "# 네이버 계정 정보를 저장하기 위해 최초로 한 번만 동작시키도록 한다.\n",
    "# 이후로는 또 동작시켜서는 안된다(계정 정보가 날아갈테니까)\n",
    "import pickle\n",
    "\n",
    "naver_user_info = dict({\n",
    "    \"smtp_user_id\": \"사용자계정@naver.com\",\n",
    "    \"smtp_user_pw\": \"비밀번호\"\n",
    "})\n",
    "\n",
    "f = open(NAVER_USER_DATA_SAVED_FILE, 'wb')\n",
    "pickle.dump(naver_user_info, f)\n",
    "f.close()"
   ]
  },
  {
   "cell_type": "code",
   "execution_count": 13,
   "id": "cdb4258d",
   "metadata": {},
   "outputs": [],
   "source": [
    "# KAKAO REST API KEY 정보를 저장하기 위해 최초로 한 번만 동작시키도록 한다.\n",
    "# 이후로는 또 동작시켜서는 안된다(키값이 날아갈테니까)\n",
    "import pickle\n",
    "\n",
    "app_key = \"\"\n",
    "\n",
    "f = open(APP_KEY_SAVED_FILE, 'wb')\n",
    "pickle.dump(app_key, f)\n",
    "f.close()"
   ]
  },
  {
   "cell_type": "code",
   "execution_count": 3,
   "id": "48bd7f50",
   "metadata": {},
   "outputs": [],
   "source": [
    "# REST APP KEY 저장 잘 되었는지 확인하는 목적\n",
    "import pickle\n",
    "\n",
    "f = open(APP_KEY_SAVED_FILE, 'rb')\n",
    "app_key = pickle.load(f)\n",
    "f.close()"
   ]
  },
  {
   "cell_type": "code",
   "execution_count": 30,
   "id": "11ef15d0",
   "metadata": {},
   "outputs": [
    {
     "name": "stdout",
     "output_type": "stream",
     "text": [
      "\n"
     ]
    }
   ],
   "source": [
    "# NAVER 계정 정보를 가져옴\n",
    "import pickle\n",
    "\n",
    "f = open(NAVER_USER_DATA_SAVED_FILE, 'rb')\n",
    "naver_user_info = pickle.load(f)\n",
    "f.close()\n",
    "\n",
    "print()"
   ]
  },
  {
   "cell_type": "code",
   "execution_count": 19,
   "id": "718504f4",
   "metadata": {},
   "outputs": [],
   "source": [
    "# 저장\n",
    "def save_tokens(filename, tokens):\n",
    "    with open(filename, \"w\") as fp:\n",
    "        json.dump(tokens, fp)"
   ]
  },
  {
   "cell_type": "code",
   "execution_count": 21,
   "id": "7c77cc8f",
   "metadata": {},
   "outputs": [
    {
     "name": "stdout",
     "output_type": "stream",
     "text": [
      "\n"
     ]
    }
   ],
   "source": [
    "# 토큰 만료시 재발급\n",
    "import requests\n",
    "\n",
    "url = \"https://kauth.kakao.com/oauth/token\"\n",
    "\n",
    "#data = {\n",
    "#    \"grant_type\" : \"authorization_code\",\n",
    "#    \"client_id\" : \"REST_API_키\",\n",
    "#    \"redirect_uri\" : \"https://localhost.com\",\n",
    "#    \"code\" : \"발급받은 토큰값\"\n",
    "#}\n",
    "\n",
    "data = {\n",
    "    \"grant_type\" : \"authorization_code\",\n",
    "    \"client_id\" : app_key,\n",
    "    \"redirect_uri\" : \"https://localhost.com\",\n",
    "    \"code\" : \"\"\n",
    "}\n",
    "\n",
    "response = requests.post(url, data=data)\n",
    "\n",
    "if response.status_code != 200:\n",
    "    print(\"Error!\")\n",
    "else:\n",
    "    tokens = response.json()\n",
    "    print(tokens)\n",
    "    \n",
    "# token 저장\n",
    "save_tokens(KAKAO_TOKEN_SAVED_FILE, tokens)"
   ]
  },
  {
   "cell_type": "code",
   "execution_count": 4,
   "id": "8b4c3f38",
   "metadata": {},
   "outputs": [],
   "source": [
    "def load_tokens(filename):\n",
    "    with open(filename) as fp:\n",
    "        tokens = json.load(fp)\n",
    "        \n",
    "    return tokens"
   ]
  },
  {
   "cell_type": "code",
   "execution_count": 31,
   "id": "be06c4ee",
   "metadata": {},
   "outputs": [],
   "source": [
    "import os\n",
    "import smtplib\n",
    "\n",
    "from email.mime.multipart import MIMEMultipart\n",
    "from email.mime.image import MIMEImage\n",
    "from email.mime.audio import MIMEAudio\n",
    "from email.mime.text import MIMEText\n",
    "from email.mime.text import MIMEText\n",
    "from email.mime.base import MIMEBase\n",
    "from email import encoders"
   ]
  },
  {
   "cell_type": "code",
   "execution_count": 32,
   "id": "9b71c1ca",
   "metadata": {},
   "outputs": [],
   "source": [
    "def send_email(smtp_info, naver_user_info, msg):\n",
    "    with smtplib.SMTP(smtp_info[\"smtp_server\"], smtp_info[\"smtp_port\"]) as server:\n",
    "        # TLS 보안 설정 및 시작 (보안 정책상 필수)\n",
    "        server.starttls()\n",
    "        \n",
    "        # 로그인\n",
    "        server.login(naver_user_info[\"smtp_user_id\"], naver_user_info[\"smtp_user_pw\"])\n",
    "        \n",
    "        # 이메일 전송\n",
    "        # 메시지 전송시 반드시 as_string()으로 변환하여 전송해야함\n",
    "        res = server.sendmail(msg['from'], msg['to'], msg.as_string())\n",
    "        \n",
    "        if not res:\n",
    "            print('이메일 전송 성공!!!')\n",
    "        else:\n",
    "            print(res)"
   ]
  },
  {
   "cell_type": "code",
   "execution_count": 33,
   "id": "ba1a5d19",
   "metadata": {},
   "outputs": [],
   "source": [
    "def make_multimsg(msg_dict):\n",
    "    multi = MIMEMultipart(_subtype = 'mixed')\n",
    "    \n",
    "    for key, value in msg_dict.items():\n",
    "        # text 형식인 경우\n",
    "        if key == 'text':\n",
    "            with open(value['filename'], encoding='utf-8') as fp:\n",
    "                msg = MIMEText(fp.read(), _subtype = value['subtype'])\n",
    "        # image 형식인 경우\n",
    "        elif key == 'image':\n",
    "            with open(value['filename'], 'rb') as fp:\n",
    "                msg = MIMEImage(fp.read(), _subtype = value['subtype'])\n",
    "        # audio, video는 별도 설정 없이 진행하도록 함\n",
    "        elif key == 'audio':\n",
    "            print(\"음원은 지원하지 않습니다!\")\n",
    "        elif key == 'video':\n",
    "            print(\"영상은 지원하지 않습니다!\")\n",
    "        # 그 외의 형식\n",
    "        else:\n",
    "            with open(value['filename'], 'rb') as fp:\n",
    "                msg = MIMEBase(value['maintype'], _subtype = value['subtype'])\n",
    "                msg.set_payload(fp.read())\n",
    "                encoders.encode_base64(msg)\n",
    "                \n",
    "        # 파일 이름은 첨부파일 제목\n",
    "        msg.add_header('Content-Disposition', 'attachment', \n",
    "                       filename = os.path.basename(value['filename']))\n",
    "\n",
    "        # 파일 첨부!\n",
    "        multi.attach(msg)\n",
    "        \n",
    "    return multi"
   ]
  },
  {
   "cell_type": "code",
   "execution_count": 41,
   "id": "5efc0f45",
   "metadata": {},
   "outputs": [
    {
     "name": "stdout",
     "output_type": "stream",
     "text": [
      " * Serving Flask app \"__main__\" (lazy loading)\n",
      " * Environment: production\n",
      "   WARNING: This is a development server. Do not use it in a production deployment.\n",
      "   Use a production WSGI server instead.\n",
      " * Debug mode: off\n"
     ]
    },
    {
     "name": "stderr",
     "output_type": "stream",
     "text": [
      " * Running on http://127.0.0.1:5000/ (Press CTRL+C to quit)\n",
      "<ipython-input-41-a6e5803f153c>:9: DeprecationWarning: 'encoding' is ignored and deprecated. It will be removed in Python 3.9\n",
      "  params = json.loads(request.get_data(), encoding='utf-8')\n"
     ]
    },
    {
     "name": "stdout",
     "output_type": "stream",
     "text": [
      "params:  {'name': '이구역은내가접수했어', 'cost': 1000000000}\n",
      "values:  ['이구역은내가접수했어', 1000000000]\n",
      "이름:  이구역은내가접수했어\n",
      "가격:  1000000000\n",
      "200\n",
      "2021-10-07 18:12:35\n",
      "{'image': {'maintype': 'image', 'subtype': 'jpg'}}\n",
      "{'maintype': 'image', 'subtype': 'jpg'}\n",
      "image\n",
      "{'maintype': 'image', 'subtype': 'jpg', 'filename': 'res/email/bonobono.jpg'}\n"
     ]
    },
    {
     "name": "stderr",
     "output_type": "stream",
     "text": [
      "127.0.0.1 - - [07/Oct/2021 18:12:35] \"\u001b[37mPOST /spring2pythonRequestWithData HTTP/1.1\u001b[0m\" 200 -\n"
     ]
    },
    {
     "name": "stdout",
     "output_type": "stream",
     "text": [
      "이메일 전송 성공!!!\n"
     ]
    }
   ],
   "source": [
    "import datetime\n",
    "\n",
    "app = Flask(__name__)\n",
    "CORS(app)\n",
    "\n",
    "@app.route('/spring2pythonRequestWithData', methods = ['GET', 'POST'])\n",
    "def spring2pythonRequestWithData():\n",
    "    \n",
    "    params = json.loads(request.get_data(), encoding='utf-8')\n",
    "    print(\"params: \", params)\n",
    "    \n",
    "    if len(params) == 0:\n",
    "        return jsonify(\"No Parameter\")\n",
    "    \n",
    "    params_string = \"\"\n",
    "    customer_name = \"\"\n",
    "    price = \"\"\n",
    "    \n",
    "    ##################### 개조 구간 시작 #####################\n",
    "    #params_string = \"\"\n",
    "    #for key in params.keys():\n",
    "    #    params_string += 'key: {}, value: {}<br>'.format(key, params[key])\n",
    "    \n",
    "    values = []\n",
    "    for key in params.keys():\n",
    "        values.append(params[key])\n",
    "\n",
    "    print(\"values: \", values)\n",
    "    customer_name = values[0]\n",
    "    price = values[1]\n",
    "    #imgPath = values[2]\n",
    "    \n",
    "    print(\"이름: \", customer_name)\n",
    "    print(\"가격: \", price)\n",
    "    #print(\"이미지 경로: \", imgPath)\n",
    "    \n",
    "    tokens = load_tokens(KAKAO_TOKEN_SAVED_FILE)\n",
    "    #print(\"tokens: \", tokens)\n",
    "\n",
    "    url = \"https://kapi.kakao.com/v2/api/talk/memo/default/send\"\n",
    "\n",
    "    headers = {\n",
    "        \"Authorization\" : \"Bearer \" + tokens['access_token']\n",
    "    }\n",
    "    \n",
    "    message = \"주문 테스트 - 구매자: {0}, 결제 금액: {1}\".format(customer_name, price)\n",
    "\n",
    "    data = {\n",
    "        \"template_object\" : json.dumps({\n",
    "            \"object_type\" : \"text\",\n",
    "            \"text\" : message,\n",
    "            \"link\" : {\n",
    "                \"web_url\" : \"http://localhost:8080/\"\n",
    "            }\n",
    "        })\n",
    "    }\n",
    "\n",
    "    response = requests.post(url, headers=headers, data=data)\n",
    "    print(response.status_code)\n",
    "    \n",
    "    #if response.status_code == 401:\n",
    "    #    tokens = update_tokens(app_key, KAKAO_TOKEN_SAVED_FILE)\n",
    "        \n",
    "    #print(\"tokens: \", tokens)\n",
    "    \n",
    "    ##################### 개조 구간 끄읕 #####################\n",
    "    \n",
    "    ##################### 이메일 전송 시작 #####################\n",
    "    \n",
    "    smtp_info = dict({\n",
    "        \"smtp_server\": \"smtp.naver.com\",\n",
    "        \"smtp_port\": 587\n",
    "    })\n",
    "\n",
    "    msg_dict = {\n",
    "        # 텍스트 형식의 첨부 파일\n",
    "        #'text': {\n",
    "        #    'maintype': 'text',\n",
    "        #    'subtype': 'plain',\n",
    "            #'filename': 'res/email/test.txt'\n",
    "        #},\n",
    "        # 이미지 형식의 첨부 파일\n",
    "        'image': {\n",
    "            'maintype': 'image',\n",
    "            'subtype': 'jpg',\n",
    "            #'filename': 'res/email/bonobono.jpg'\n",
    "        },\n",
    "        # 세금계산서 등등의 pdf 형식의 첨부 파일들\n",
    "        #'application': {\n",
    "        #    'maintype': 'application',\n",
    "        #    'subtype': 'octect-stream',\n",
    "            #'filename': 'res/email/test.pdf'\n",
    "        #}\n",
    "    }\n",
    "    \n",
    "    # 메일 작성\n",
    "    title = \"첨부파일이 날아간드아!\"\n",
    "    content = \"ㅇㅇ 이건 메일 내용이야\"\n",
    "    sender = naver_user_info['smtp_user_id']\n",
    "    receiver = naver_user_info['smtp_user_id']\n",
    "    \n",
    "    # 결제 사항 적용\n",
    "    \n",
    "    now = datetime.datetime.now()\n",
    "    now_time = now.strftime('%Y-%m-%d %H:%M:%S')\n",
    "    print(now_time)\n",
    "    \n",
    "    title = customer_name + \"님 \" + now_time + \" 결제하신 내역입니다.\"\n",
    "    content = \"구매하신 물품은 뭣이며 금액은 \" + str(price) + \"원 입니다. 앞으로도 저희 매장 많이 찾아주세요 ^^\"\n",
    "    \n",
    "    ##############################\n",
    "\n",
    "    msg = MIMEText(_text = content, _charset = 'utf-8')\n",
    "    \n",
    "    print(msg_dict)\n",
    "    print(msg_dict['image'])\n",
    "    print(msg_dict['image']['maintype'])\n",
    "    \n",
    "    # 특정 위치 지정하기\n",
    "    msg_dict['image']['filename'] = 'res/email/bonobono.jpg'\n",
    "    \n",
    "    print(msg_dict['image'])\n",
    "\n",
    "    # 파일 첨부하기!\n",
    "    multi = make_multimsg(msg_dict)\n",
    "    multi['Subject'] = title\n",
    "    multi['From'] = sender\n",
    "    multi['To'] = receiver\n",
    "    multi.attach(msg)\n",
    "\n",
    "    # 첨부한 내용을 추가하여 이메일 전송!\n",
    "    send_email(smtp_info, naver_user_info, multi)\n",
    "\n",
    "    ##################### 이메일 전송 끄읕 #####################\n",
    "    \n",
    "    return jsonify(params_string)\n",
    "\n",
    "if __name__ == \"__main__\":\n",
    "    app.run()"
   ]
  },
  {
   "cell_type": "code",
   "execution_count": null,
   "id": "52ced902",
   "metadata": {},
   "outputs": [],
   "source": []
  }
 ],
 "metadata": {
  "kernelspec": {
   "display_name": "Python 3",
   "language": "python",
   "name": "python3"
  },
  "language_info": {
   "codemirror_mode": {
    "name": "ipython",
    "version": 3
   },
   "file_extension": ".py",
   "mimetype": "text/x-python",
   "name": "python",
   "nbconvert_exporter": "python",
   "pygments_lexer": "ipython3",
   "version": "3.8.8"
  }
 },
 "nbformat": 4,
 "nbformat_minor": 5
}
