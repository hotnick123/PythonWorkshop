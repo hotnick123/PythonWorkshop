{
 "cells": [
  {
   "cell_type": "code",
   "execution_count": 1,
   "id": "954c6297",
   "metadata": {},
   "outputs": [],
   "source": [
    "# Client & Server\n",
    "# Client ? 서비스를 사용하는 사용자\n",
    "# Server ? 서비스 제공자\n",
    "# Vue & Spring 관계에서 Server와 Client의 관계는 ?\n",
    "# 사용자(Client) -> Vue Front Server(URL 맵핑)\n",
    "# Vue Front Server(Client) -> Spring(데이터 처리 요청)\n",
    "# Spring(처리 결과) -> Vue Front에 전달\n",
    "# Vue Front에서 사용자에게 결과를 렌더링\n",
    "\n",
    "# 여기를 보면 Vue가 클라이언트가 될 수도 있다.\n",
    "# 반대로 Spring도 클라이언트가 될 수 있을까 ?\n",
    "# Spring이 누군가에게 요청을 넣으면 그 시점에서 Client가 됨\n",
    "\n",
    "# Vue - Spring - DB(JPA)\n",
    "#         |\n",
    "#       Python\n",
    "\n",
    "# 이렇게 여러개의 많은 서비스들이 복합적으로 구성되어\n",
    "# 하나의 또 다른 서비스를 구성하는 것을 마이크로서비스라고 함"
   ]
  },
  {
   "cell_type": "code",
   "execution_count": 8,
   "id": "a3b27214",
   "metadata": {},
   "outputs": [
    {
     "name": "stdout",
     "output_type": "stream",
     "text": [
      "Python 3.8.8\n"
     ]
    }
   ],
   "source": [
    "!python --version"
   ]
  },
  {
   "cell_type": "code",
   "execution_count": 9,
   "id": "50dfc3a7",
   "metadata": {},
   "outputs": [],
   "source": [
    "from flask import Flask, url_for, request, jsonify\n",
    "from flask_cors import CORS, cross_origin\n",
    "\n",
    "import json"
   ]
  },
  {
   "cell_type": "code",
   "execution_count": null,
   "id": "e3755dab",
   "metadata": {},
   "outputs": [
    {
     "name": "stdout",
     "output_type": "stream",
     "text": [
      " * Serving Flask app \"__main__\" (lazy loading)\n",
      " * Environment: production\n",
      "   WARNING: This is a development server. Do not use it in a production deployment.\n",
      "   Use a production WSGI server instead.\n",
      " * Debug mode: off\n"
     ]
    },
    {
     "name": "stderr",
     "output_type": "stream",
     "text": [
      " * Running on http://127.0.0.1:5000/ (Press CTRL+C to quit)\n",
      "<ipython-input-26-e5d7858153d1>:43: DeprecationWarning: 'encoding' is ignored and deprecated. It will be removed in Python 3.9\n",
      "  params = json.loads(request.get_data(), encoding='utf-8')\n",
      "127.0.0.1 - - [04/Oct/2021 19:13:46] \"\u001b[37mPOST /spring2pythonRequestWithData HTTP/1.1\u001b[0m\" 200 -\n"
     ]
    },
    {
     "name": "stdout",
     "output_type": "stream",
     "text": [
      "request:  b'{\"cost\":35000}'\n",
      "request: b'{\"cost\":35000}'\n",
      "tmp:  b\"{\"cost\":35000}\n",
      "tmp2:  {\"cost\":35000}\n",
      "tmp3:  {\"cost\":35000}\n",
      "params:  {'cost': 35000}\n"
     ]
    }
   ],
   "source": [
    "app = Flask(__name__)\n",
    "CORS(app)\n",
    "\n",
    "# json 형식으로 success(성공여부 - True) 전달해보기\n",
    "@app.route('/spring2pythonRequest', methods = ['GET', 'POST'])\n",
    "def spring2pythonRequest():\n",
    "    data = {\"success\": True}\n",
    "    \n",
    "    return jsonify(data)\n",
    "\n",
    "# 이번에는 좀 더 여러 정보를 전송해보자!\n",
    "@app.route('/spring2pythonRequestMulti', methods = ['GET', 'POST'])\n",
    "def spring2pythonRequestMulti():\n",
    "    data = {\"success\": True}\n",
    "    \n",
    "    data[\"userId\"] = \"blabla\"\n",
    "    data[\"email\"] = \"blabla@gmail.com\"\n",
    "    \n",
    "    return jsonify(data)\n",
    "\n",
    "# 이번에는 여기서 데이터를 받아보자!\n",
    "@app.route('/spring2pythonRequestWithData', methods = ['GET', 'POST'])\n",
    "def spring2pythonRequestWithData():\n",
    "    #print(\"request: \", request.get_data())\n",
    "    #print(\"request: \" + str(request.get_data()))\n",
    "\n",
    "    #tmp = str(request.get_data()).strip(\"'<>() \").replace('\\'', '\\\"')\n",
    "    #print(\"tmp: \", tmp)\n",
    "    \n",
    "    #tmp2 = request.get_data().decode('utf-8').replace('\\0', '')\n",
    "    #print(\"tmp2: \", tmp2)\n",
    "    \n",
    "    #tmp3 = request.get_data().decode('utf8').replace(\"'\", '\"')\n",
    "    #print(\"tmp3: \", tmp3)\n",
    "    \n",
    "    params = json.loads(request.get_data(), encoding='utf-8')\n",
    "    print(\"params: \", params)\n",
    "    \n",
    "    if len(params) == 0:\n",
    "        return jsonify(\"No Parameter\")\n",
    "    \n",
    "    params_string = \"\"\n",
    "    for key in params.keys():\n",
    "        params_string += 'key: {}, value: {}<br>'.format(key, params[key])\n",
    "    \n",
    "    return jsonify(params_string)\n",
    "\n",
    "if __name__ == \"__main__\":\n",
    "    app.run()"
   ]
  },
  {
   "cell_type": "code",
   "execution_count": null,
   "id": "09cd80bc",
   "metadata": {},
   "outputs": [],
   "source": []
  }
 ],
 "metadata": {
  "kernelspec": {
   "display_name": "Python 3",
   "language": "python",
   "name": "python3"
  },
  "language_info": {
   "codemirror_mode": {
    "name": "ipython",
    "version": 3
   },
   "file_extension": ".py",
   "mimetype": "text/x-python",
   "name": "python",
   "nbconvert_exporter": "python",
   "pygments_lexer": "ipython3",
   "version": "3.8.8"
  }
 },
 "nbformat": 4,
 "nbformat_minor": 5
}
