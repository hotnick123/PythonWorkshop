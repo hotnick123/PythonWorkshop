{
 "cells": [
  {
   "cell_type": "code",
   "execution_count": null,
   "metadata": {},
   "outputs": [],
   "source": [
    "# https://kauth.kakao.com/oauth/authorize?client_id={REST_API_KEY}&redirect_uri={REDIRECT_URI}&response_type=code&scope=friends,talk_message"
   ]
  },
  {
   "cell_type": "code",
   "execution_count": null,
   "metadata": {},
   "outputs": [],
   "source": [
    "hq7rBpDYI1ayGMBKKlmaO6CdmFP83rsbSMBxkE1nmV42TTdcjCmXYb1HD2g6xUJfDSAGsgopcJ8AAAF8UBH9GA"
   ]
  },
  {
   "cell_type": "code",
   "execution_count": 5,
   "metadata": {},
   "outputs": [
    {
     "name": "stdout",
     "output_type": "stream",
     "text": [
      "{'access_token': 'pe3-Io4z0WUQbqogI7CSOLGIKLtFRsDqY5eKDgo9cuoAAAF8UBKV_w', 'token_type': 'bearer', 'refresh_token': 'oPaxb4AtJQYrY2_NcFXjR9mhfbQG1-dg-9-umQo9cuoAAAF8UBKV_g', 'expires_in': 21599, 'scope': 'account_email talk_message profile_nickname friends', 'refresh_token_expires_in': 5183999}\n"
     ]
    }
   ],
   "source": [
    "import requests\n",
    "\n",
    "url = \"https://kauth.kakao.com/oauth/token\"\n",
    "\n",
    "data = {\n",
    "    \"grant_type\" : \"authorization_code\",\n",
    "    \"client_id\" : \"51094f0078fb3453bd5b23aac6ca7a28\",\n",
    "    \"redirect_uri\" : \"http://localhost:8080\",\n",
    "    \"code\" : \"hq7rBpDYI1ayGMBKKlmaO6CdmFP83rsbSMBxkE1nmV42TTdcjCmXYb1HD2g6xUJfDSAGsgopcJ8AAAF8UBH9GA\"\n",
    "}\n",
    "\n",
    "response = requests.post(url, data=data)\n",
    "\n",
    "if response.status_code != 200:\n",
    "    print(\"Error!\")\n",
    "else:\n",
    "    tokens = response.json()\n",
    "    print(tokens)"
   ]
  },
  {
   "cell_type": "code",
   "execution_count": 8,
   "metadata": {},
   "outputs": [],
   "source": [
    "import json\n",
    "\n",
    "# Kakao Token 저장 파일\n",
    "KAKAO_FRIEND_TOKEN_SAVED_FILE = \"E:/java_work/python_works/PythonWorkshop/kakao_token.json\"\n",
    "\n",
    "# 저장\n",
    "def save_tokens(filename, tokens):\n",
    "    with open(filename, \"w\") as fp:\n",
    "        json.dump(tokens, fp)\n",
    "        \n",
    "# 읽기\n",
    "def load_tokens(filename):\n",
    "    with open(filename) as fp:\n",
    "        tokens = json.load(fp)\n",
    "        \n",
    "    return tokens\n",
    "\n",
    "# token 저장\n",
    "save_tokens(KAKAO_FRIEND_TOKEN_SAVED_FILE, tokens)"
   ]
  },
  {
   "cell_type": "code",
   "execution_count": 7,
   "metadata": {},
   "outputs": [
    {
     "ename": "FileNotFoundError",
     "evalue": "[Errno 2] No such file or directory: 'res/kakao_friend_msg/kakao_token.json'",
     "output_type": "error",
     "traceback": [
      "\u001b[1;31m---------------------------------------------------------------------------\u001b[0m",
      "\u001b[1;31mFileNotFoundError\u001b[0m                         Traceback (most recent call last)",
      "\u001b[1;32m<ipython-input-7-40fe34c439df>\u001b[0m in \u001b[0;36m<module>\u001b[1;34m\u001b[0m\n\u001b[0;32m      3\u001b[0m \u001b[1;33m\u001b[0m\u001b[0m\n\u001b[0;32m      4\u001b[0m \u001b[1;31m# 토큰 정보 활용\u001b[0m\u001b[1;33m\u001b[0m\u001b[1;33m\u001b[0m\u001b[1;33m\u001b[0m\u001b[0m\n\u001b[1;32m----> 5\u001b[1;33m \u001b[0mtokens\u001b[0m \u001b[1;33m=\u001b[0m \u001b[0mload_tokens\u001b[0m\u001b[1;33m(\u001b[0m\u001b[0mKAKAO_FRIEND_TOKEN_SAVED_FILE\u001b[0m\u001b[1;33m)\u001b[0m\u001b[1;33m\u001b[0m\u001b[1;33m\u001b[0m\u001b[0m\n\u001b[0m\u001b[0;32m      6\u001b[0m \u001b[1;33m\u001b[0m\u001b[0m\n\u001b[0;32m      7\u001b[0m \u001b[1;31m# 친구 목록부터 가져오자!\u001b[0m\u001b[1;33m\u001b[0m\u001b[1;33m\u001b[0m\u001b[1;33m\u001b[0m\u001b[0m\n",
      "\u001b[1;32m<ipython-input-6-fd3cfd75ced3>\u001b[0m in \u001b[0;36mload_tokens\u001b[1;34m(filename)\u001b[0m\n\u001b[0;32m     11\u001b[0m \u001b[1;31m# 읽기\u001b[0m\u001b[1;33m\u001b[0m\u001b[1;33m\u001b[0m\u001b[1;33m\u001b[0m\u001b[0m\n\u001b[0;32m     12\u001b[0m \u001b[1;32mdef\u001b[0m \u001b[0mload_tokens\u001b[0m\u001b[1;33m(\u001b[0m\u001b[0mfilename\u001b[0m\u001b[1;33m)\u001b[0m\u001b[1;33m:\u001b[0m\u001b[1;33m\u001b[0m\u001b[1;33m\u001b[0m\u001b[0m\n\u001b[1;32m---> 13\u001b[1;33m     \u001b[1;32mwith\u001b[0m \u001b[0mopen\u001b[0m\u001b[1;33m(\u001b[0m\u001b[0mfilename\u001b[0m\u001b[1;33m)\u001b[0m \u001b[1;32mas\u001b[0m \u001b[0mfp\u001b[0m\u001b[1;33m:\u001b[0m\u001b[1;33m\u001b[0m\u001b[1;33m\u001b[0m\u001b[0m\n\u001b[0m\u001b[0;32m     14\u001b[0m         \u001b[0mtokens\u001b[0m \u001b[1;33m=\u001b[0m \u001b[0mjson\u001b[0m\u001b[1;33m.\u001b[0m\u001b[0mload\u001b[0m\u001b[1;33m(\u001b[0m\u001b[0mfp\u001b[0m\u001b[1;33m)\u001b[0m\u001b[1;33m\u001b[0m\u001b[1;33m\u001b[0m\u001b[0m\n\u001b[0;32m     15\u001b[0m \u001b[1;33m\u001b[0m\u001b[0m\n",
      "\u001b[1;31mFileNotFoundError\u001b[0m: [Errno 2] No such file or directory: 'res/kakao_friend_msg/kakao_token.json'"
     ]
    }
   ],
   "source": [
    "import json\n",
    "import requests\n",
    "\n",
    "# 토큰 정보 활용\n",
    "tokens = load_tokens(KAKAO_FRIEND_TOKEN_SAVED_FILE)\n",
    "\n",
    "# 친구 목록부터 가져오자!\n",
    "friends_url = \"https://kapi.kakao.com/v1/api/talk/friends\"\n",
    "\n",
    "headers = {\n",
    "    \"Authorization\" : \"Bearer \" + tokens['access_token']\n",
    "}\n",
    "\n",
    "res = json.loads(requests.get(friends_url, headers=headers).text)\n",
    "\n",
    "print(type(res))\n",
    "print(res)\n",
    "print(\"=================================================\")\n",
    "\n",
    "friends_list = res.get(\"elements\")\n",
    "print(friends_list)\n",
    "print(\"=================================================\")\n",
    "\n",
    "print(friends_list[0].get(\"uuid\"))\n",
    "fid = friends_list[0].get(\"uuid\")\n",
    "print(fid)"
   ]
  },
  {
   "cell_type": "code",
   "execution_count": 9,
   "metadata": {},
   "outputs": [
    {
     "name": "stdout",
     "output_type": "stream",
     "text": [
      "200\n",
      "카톡 메시지가 간드아!!!\n"
     ]
    }
   ],
   "source": [
    "# 카톡 친구에게 메시지 보내기\n",
    "fsend_url = \"https://kapi.kakao.com/v1/api/talk/friends/message/default/send\"\n",
    "\n",
    "data = {\n",
    "    'receiver_uuids' : '[\"{}\"]'.format(fid),\n",
    "    \"template_object\" : json.dumps({\n",
    "        \"object_type\" : \"text\",\n",
    "        \"text\" : \"우왕굳\",\n",
    "        \"link\" : {\n",
    "            \"web_url\" : \"www.naver.com\"\n",
    "        }\n",
    "    })\n",
    "}\n",
    "\n",
    "# 메시지 전송\n",
    "response = requests.post(fsend_url, headers=headers, data=data)\n",
    "print(response.status_code)\n",
    "\n",
    "if response.status_code != 200:\n",
    "    print(\"Error!\")\n",
    "else:\n",
    "    print(\"카톡 메시지가 간드아!!!\")"
   ]
  },
  {
   "cell_type": "code",
   "execution_count": null,
   "metadata": {},
   "outputs": [],
   "source": []
  }
 ],
 "metadata": {
  "kernelspec": {
   "display_name": "Python 3",
   "language": "python",
   "name": "python3"
  },
  "language_info": {
   "codemirror_mode": {
    "name": "ipython",
    "version": 3
   },
   "file_extension": ".py",
   "mimetype": "text/x-python",
   "name": "python",
   "nbconvert_exporter": "python",
   "pygments_lexer": "ipython3",
   "version": "3.8.5"
  }
 },
 "nbformat": 4,
 "nbformat_minor": 5
}
