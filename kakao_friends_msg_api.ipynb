{
 "cells": [
  {
   "cell_type": "code",
   "execution_count": null,
   "id": "54fcb816",
   "metadata": {},
   "outputs": [],
   "source": [
    "# https://kauth.kakao.com/oauth/authorize?client_id={REST_API_KEY}&redirect_uri={REDIRECT_URI}&response_type=code&scope=friends,talk_message"
   ]
  },
  {
   "cell_type": "code",
   "execution_count": null,
   "id": "9ffe93bd",
   "metadata": {},
   "outputs": [],
   "source": [
    "TKFjSHEE5MAPAEIWNVplvv0Th8k_cMuuo50YdEj6XAn3t4bqd5L-iT0pZqKkDQBueEPyzAo9c5oAAAF8Ow-OjQ"
   ]
  },
  {
   "cell_type": "code",
   "execution_count": 13,
   "id": "43d87cba",
   "metadata": {},
   "outputs": [
    {
     "name": "stdout",
     "output_type": "stream",
     "text": [
      "{'access_token': 'Gmc_Qaqf_XnIRRE751Adb5iWf1ndh3zqWJHQKQo9c00AAAF8O5Ovfw', 'token_type': 'bearer', 'refresh_token': 'TvoAtP0f90sNj_GbGW66KErNN19vixSvbpdBlwo9c00AAAF8O5Ovfg', 'expires_in': 21599, 'scope': 'account_email profile_image talk_message profile_nickname friends', 'refresh_token_expires_in': 5183999}\n"
     ]
    }
   ],
   "source": [
    "import requests\n",
    "\n",
    "url = \"https://kauth.kakao.com/oauth/token\"\n",
    "\n",
    "data = {\n",
    "    \"grant_type\" : \"authorization_code\",\n",
    "    \"client_id\" : \"aacbd172163c8e0703e78bb637350490\",\n",
    "    \"redirect_uri\" : \"https://localhost.com\",\n",
    "    \"code\" : \"TCUa8EuVt9SMK-Qw-3RKSzNJ-45N64NeR-zCu115tPhmKMwpxjCMS8EwEtV1K_Stydsj-gopyNgAAAF8O5LPBA\"\n",
    "}\n",
    "\n",
    "response = requests.post(url, data=data)\n",
    "\n",
    "if response.status_code != 200:\n",
    "    print(\"Error!\")\n",
    "else:\n",
    "    tokens = response.json()\n",
    "    print(tokens)"
   ]
  },
  {
   "cell_type": "code",
   "execution_count": 14,
   "id": "f1e895e3",
   "metadata": {},
   "outputs": [],
   "source": [
    "import json\n",
    "\n",
    "# Kakao Token 저장 파일\n",
    "KAKAO_FRIEND_TOKEN_SAVED_FILE = \"res/kakao_friend_msg/kakao_token.json\"\n",
    "\n",
    "# 저장\n",
    "def save_tokens(filename, tokens):\n",
    "    with open(filename, \"w\") as fp:\n",
    "        json.dump(tokens, fp)\n",
    "        \n",
    "# 읽기\n",
    "def load_tokens(filename):\n",
    "    with open(filename) as fp:\n",
    "        tokens = json.load(fp)\n",
    "        \n",
    "    return tokens\n",
    "\n",
    "# token 저장\n",
    "save_tokens(KAKAO_FRIEND_TOKEN_SAVED_FILE, tokens)"
   ]
  },
  {
   "cell_type": "code",
   "execution_count": 15,
   "id": "532b4725",
   "metadata": {},
   "outputs": [
    {
     "name": "stdout",
     "output_type": "stream",
     "text": [
      "<class 'dict'>\n",
      "{'elements': [{'profile_nickname': '김민규', 'profile_thumbnail_image': 'https://p.kakaocdn.net/th/talkp/wkXtvsu5W8/yfDV9LzxEFdbglMO4KzqC1/q2ruf1_110x110_c.jpg', 'id': 1932533220, 'uuid': 'vo2_jreAtIy-kqSTpZSkkqaesoSwgLiAs-4', 'favorite': False}, {'profile_nickname': '유종현', 'profile_thumbnail_image': 'https://p.kakaocdn.net/th/talkp/wmysarOzGL/SkjkqZqJ1tPqZNPkyAYbCK/v03m7n_110x110_c.jpg', 'id': 1932757234, 'uuid': 'vo21jLyEsIG3m6-bqZ-qm6ubt4G1hb2Fttk', 'favorite': False}, {'profile_nickname': '이경환', 'profile_thumbnail_image': 'https://p.kakaocdn.net/th/talkp/wmrm13dvk8/0JKl9MiPkxZXjA70WtnKm1/j2gzx2_110x110_c.jpg', 'id': 1932769882, 'uuid': 'voy_iLCFtYS2mquZq5qvl6eTpoq8iLiAuIvi', 'favorite': False}, {'profile_nickname': '인준', 'profile_thumbnail_image': 'https://p.kakaocdn.net/th/talkp/wmi3PDhyfH/xMKNvkwJrSrmRGtFKLGvEk/g38xtk_110x110_c.jpg', 'id': 1932747594, 'uuid': 'vo20hbODu4-9kambo5qul6-Xu425ibGJuss', 'favorite': False}, {'profile_nickname': '임익환', 'profile_thumbnail_image': 'https://p.kakaocdn.net/th/talkp/wmsELExPM4/9CFqng7D8gIMCFvyNA3Ar0/gysg9p_110x110_c.jpg', 'id': 1932764688, 'uuid': 'vo-_i7qMvIm7jaGTpZChmKueqpO_ib2NtY2-xg', 'favorite': False}, {'profile_nickname': '임초롱', 'profile_thumbnail_image': '', 'id': 1932767791, 'uuid': 'vou5irKKu4Oynqydq5qikKObrIC2grKKsoHl', 'favorite': False}, {'profile_nickname': '재권', 'profile_thumbnail_image': 'https://p.kakaocdn.net/th/talkp/wmzeXMwiZr/imJwMNkOqX9NZ9AbzYesT0/8p6yhm_110x110_c.jpg', 'id': 1932766876, 'uuid': 'vo24gbeEsIOvmq2cqJivnK6CtICwiLCD2w', 'favorite': False}, {'profile_nickname': '전승리', 'profile_thumbnail_image': '', 'id': 1932775804, 'uuid': 'voa0gbSMu421maiQpJevlqSRqISyhraOtoXm', 'favorite': False}, {'profile_nickname': '최준환', 'profile_thumbnail_image': 'https://p.kakaocdn.net/th/talkp/wmvaywdHnd/zLkEHId8UKKD4X9a5LHy9K/s1i2yx_110x110_c.jpg', 'id': 1932777896, 'uuid': 'voq5i7OLu4qml6-er5iokKaWuoy4iLCIu9w', 'favorite': False}, {'profile_nickname': '태양', 'profile_thumbnail_image': '', 'id': 1932768622, 'uuid': 'voy-jLmPuIunlKybqZ2vnKuHsYW1jbWG7w', 'favorite': False}], 'total_count': 12, 'after_url': 'https://kapi.kakao.com/v1/api/talk/friends?offset=10&limit=10&order=asc', 'result_id': 'zbnYtN-At4WxgbSHv43S5NDg2ODTjP6b_JXmkveF4ITbvdyqxbfeqs-Qof6f85_Aq8Sb7d4w', 'favorite_count': 0}\n",
      "=================================================\n",
      "[{'profile_nickname': '김민규', 'profile_thumbnail_image': 'https://p.kakaocdn.net/th/talkp/wkXtvsu5W8/yfDV9LzxEFdbglMO4KzqC1/q2ruf1_110x110_c.jpg', 'id': 1932533220, 'uuid': 'vo2_jreAtIy-kqSTpZSkkqaesoSwgLiAs-4', 'favorite': False}, {'profile_nickname': '유종현', 'profile_thumbnail_image': 'https://p.kakaocdn.net/th/talkp/wmysarOzGL/SkjkqZqJ1tPqZNPkyAYbCK/v03m7n_110x110_c.jpg', 'id': 1932757234, 'uuid': 'vo21jLyEsIG3m6-bqZ-qm6ubt4G1hb2Fttk', 'favorite': False}, {'profile_nickname': '이경환', 'profile_thumbnail_image': 'https://p.kakaocdn.net/th/talkp/wmrm13dvk8/0JKl9MiPkxZXjA70WtnKm1/j2gzx2_110x110_c.jpg', 'id': 1932769882, 'uuid': 'voy_iLCFtYS2mquZq5qvl6eTpoq8iLiAuIvi', 'favorite': False}, {'profile_nickname': '인준', 'profile_thumbnail_image': 'https://p.kakaocdn.net/th/talkp/wmi3PDhyfH/xMKNvkwJrSrmRGtFKLGvEk/g38xtk_110x110_c.jpg', 'id': 1932747594, 'uuid': 'vo20hbODu4-9kambo5qul6-Xu425ibGJuss', 'favorite': False}, {'profile_nickname': '임익환', 'profile_thumbnail_image': 'https://p.kakaocdn.net/th/talkp/wmsELExPM4/9CFqng7D8gIMCFvyNA3Ar0/gysg9p_110x110_c.jpg', 'id': 1932764688, 'uuid': 'vo-_i7qMvIm7jaGTpZChmKueqpO_ib2NtY2-xg', 'favorite': False}, {'profile_nickname': '임초롱', 'profile_thumbnail_image': '', 'id': 1932767791, 'uuid': 'vou5irKKu4Oynqydq5qikKObrIC2grKKsoHl', 'favorite': False}, {'profile_nickname': '재권', 'profile_thumbnail_image': 'https://p.kakaocdn.net/th/talkp/wmzeXMwiZr/imJwMNkOqX9NZ9AbzYesT0/8p6yhm_110x110_c.jpg', 'id': 1932766876, 'uuid': 'vo24gbeEsIOvmq2cqJivnK6CtICwiLCD2w', 'favorite': False}, {'profile_nickname': '전승리', 'profile_thumbnail_image': '', 'id': 1932775804, 'uuid': 'voa0gbSMu421maiQpJevlqSRqISyhraOtoXm', 'favorite': False}, {'profile_nickname': '최준환', 'profile_thumbnail_image': 'https://p.kakaocdn.net/th/talkp/wmvaywdHnd/zLkEHId8UKKD4X9a5LHy9K/s1i2yx_110x110_c.jpg', 'id': 1932777896, 'uuid': 'voq5i7OLu4qml6-er5iokKaWuoy4iLCIu9w', 'favorite': False}, {'profile_nickname': '태양', 'profile_thumbnail_image': '', 'id': 1932768622, 'uuid': 'voy-jLmPuIunlKybqZ2vnKuHsYW1jbWG7w', 'favorite': False}]\n",
      "=================================================\n",
      "vo2_jreAtIy-kqSTpZSkkqaesoSwgLiAs-4\n",
      "vo2_jreAtIy-kqSTpZSkkqaesoSwgLiAs-4\n"
     ]
    }
   ],
   "source": [
    "import json\n",
    "import requests\n",
    "\n",
    "# 토큰 정보 활용\n",
    "tokens = load_tokens(KAKAO_FRIEND_TOKEN_SAVED_FILE)\n",
    "\n",
    "# 친구 목록부터 가져오자!\n",
    "friends_url = \"https://kapi.kakao.com/v1/api/talk/friends\"\n",
    "\n",
    "headers = {\n",
    "    \"Authorization\" : \"Bearer \" + tokens['access_token']\n",
    "}\n",
    "\n",
    "res = json.loads(requests.get(friends_url, headers=headers).text)\n",
    "\n",
    "print(type(res))\n",
    "print(res)\n",
    "print(\"=================================================\")\n",
    "\n",
    "friends_list = res.get(\"elements\")\n",
    "print(friends_list)\n",
    "print(\"=================================================\")\n",
    "\n",
    "print(friends_list[0].get(\"uuid\"))\n",
    "fid = friends_list[0].get(\"uuid\")\n",
    "print(fid)"
   ]
  },
  {
   "cell_type": "code",
   "execution_count": 9,
   "id": "fdbf5eea",
   "metadata": {},
   "outputs": [
    {
     "name": "stdout",
     "output_type": "stream",
     "text": [
      "200\n",
      "카톡 메시지가 간드아!!!\n"
     ]
    }
   ],
   "source": [
    "# 카톡 친구에게 메시지 보내기\n",
    "fsend_url = \"https://kapi.kakao.com/v1/api/talk/friends/message/default/send\"\n",
    "\n",
    "data = {\n",
    "    'receiver_uuids' : '[\"{}\"]'.format(fid),\n",
    "    \"template_object\" : json.dumps({\n",
    "        \"object_type\" : \"text\",\n",
    "        \"text\" : \"우왕굳\",\n",
    "        \"link\" : {\n",
    "            \"web_url\" : \"www.naver.com\"\n",
    "        }\n",
    "    })\n",
    "}\n",
    "\n",
    "# 메시지 전송\n",
    "response = requests.post(fsend_url, headers=headers, data=data)\n",
    "print(response.status_code)\n",
    "\n",
    "if response.status_code != 200:\n",
    "    print(\"Error!\")\n",
    "else:\n",
    "    print(\"카톡 메시지가 간드아!!!\")"
   ]
  },
  {
   "cell_type": "code",
   "execution_count": null,
   "id": "a623659e",
   "metadata": {},
   "outputs": [],
   "source": []
  }
 ],
 "metadata": {
  "kernelspec": {
   "display_name": "Python 3",
   "language": "python",
   "name": "python3"
  },
  "language_info": {
   "codemirror_mode": {
    "name": "ipython",
    "version": 3
   },
   "file_extension": ".py",
   "mimetype": "text/x-python",
   "name": "python",
   "nbconvert_exporter": "python",
   "pygments_lexer": "ipython3",
   "version": "3.8.8"
  }
 },
 "nbformat": 4,
 "nbformat_minor": 5
}
